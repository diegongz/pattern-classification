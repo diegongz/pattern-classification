{
 "cells": [
  {
   "cell_type": "markdown",
   "id": "2e0e4270-59ef-4053-910d-6e67eb603102",
   "metadata": {},
   "source": [
    "# 1-NN using 3 metrics: Manhattan, Euclidian and Chessboard"
   ]
  },
  {
   "cell_type": "markdown",
   "id": "d2858e67-fe50-4a6a-83ad-8830c04209e1",
   "metadata": {},
   "source": [
    "First of all let's import the dataset"
   ]
  },
  {
   "cell_type": "code",
   "execution_count": 1,
   "id": "d1d62a3d-334a-47cc-adb3-21a9074af5f7",
   "metadata": {},
   "outputs": [
    {
     "name": "stdout",
     "output_type": "stream",
     "text": [
      "208\n"
     ]
    }
   ],
   "source": [
    "#The dataset will be saved in variable: df\n",
    "import csv\n",
    "#path of my file\n",
    "p= \"D:\\\\CIC\\\\CIP\\\\Tareas\\\\Tarea_12\\\\sonar.csv\"\n",
    "\n",
    "with open(p, newline='') as csvfile:\n",
    "    \n",
    "    # create a CSV reader object\n",
    "    csvreader = csv.reader(csvfile, delimiter=',')\n",
    "    \n",
    "    # create a list to hold the rows of the CSV file\n",
    "    df = []\n",
    "    \n",
    "    # loop through each row in the CSV file\n",
    "    for row in csvreader:\n",
    "        \n",
    "        # convert the row to a list of numbers\n",
    "        num_row = [float(x) for x in row]\n",
    "        \n",
    "        # add the num_row to the list of rows\n",
    "        df.append(num_row)\n",
    "        \n",
    "# print the 2D list\n",
    "print(len(df))"
   ]
  },
  {
   "cell_type": "code",
   "execution_count": 4,
   "id": "ec89ed66-47d1-4801-9568-7d526f02d1e8",
   "metadata": {},
   "outputs": [],
   "source": [
    "def balanced_df(df,class_1,class_2):\n",
    "    n= len(df[0])-1 #suppose the class column is the last element in the vector\n",
    "    \n",
    "    counter_1 = 0\n",
    "    counter_2 = 0\n",
    "    \n",
    "    for x in df:\n",
    "        if x[n] == class_1:\n",
    "            counter_1 += 1\n",
    "        else:\n",
    "            counter_2 += 1\n",
    "    \n",
    "    if max(counter_1,counter_2)/min(counter_1,counter_2)>1.5:\n",
    "        print(f'Desbalanced Data Set: {max(counter_1,counter_2)}/{min(counter_1,counter_2)}={max(counter_1,counter_2)/min(counter_1,counter_2)}')\n",
    "        if max(counter_1,counter_2)==counter_1:\n",
    "            print(f\"The bigger class is the: {class_1}\")\n",
    "        else:\n",
    "            print(f\"The bigger class is the: {class_2}\")\n",
    "    else:\n",
    "        print(f'Balanced Data Set: {max(counter_1,counter_2)}/{min(counter_1,counter_2)}={max(counter_1,counter_2)/min(counter_1,counter_2)}')\n",
    "        if max(counter_1,counter_2)==counter_1:\n",
    "            print(f\"The bigger class is the: {class_1}\")\n",
    "        else:\n",
    "            print(f\"The bigger class is the: {class_2}\")"
   ]
  },
  {
   "cell_type": "code",
   "execution_count": 5,
   "id": "d421ca12-948b-4335-9099-57c0c1e9ce30",
   "metadata": {},
   "outputs": [
    {
     "name": "stdout",
     "output_type": "stream",
     "text": [
      "Balanced Data Set: 111/97=1.1443298969072164\n",
      "The bigger class is the: 1\n"
     ]
    }
   ],
   "source": [
    "balanced_df(df,1,2)"
   ]
  },
  {
   "cell_type": "markdown",
   "id": "3c07aafb-3547-4dc9-afb8-6276872dd6a1",
   "metadata": {},
   "source": [
    "The next code will help us to check if there're repeated or redundant patterns"
   ]
  },
  {
   "cell_type": "code",
   "execution_count": 2,
   "id": "393f48ae-158f-4b7b-89cd-e8754c539604",
   "metadata": {},
   "outputs": [],
   "source": [
    "import pandas as pd\n",
    "\n",
    "#this function helps to clean the dataset\n",
    "\n",
    "def process_dataset(lst):\n",
    "    df=pd.DataFrame(lst)\n",
    "    # Remove columns where all entries are the same\n",
    "    df = df.loc[:, (df != df.iloc[0]).any()]\n",
    "\n",
    "    # Remove duplicate rows\n",
    "    df.drop_duplicates(inplace=True)\n",
    "\n",
    "    # Remove rows with duplicate values in all but the last column\n",
    "    df_without_last = df.iloc[:, :-1]\n",
    "    df.drop_duplicates(subset=df_without_last.columns.tolist(), inplace=True, keep=False)\n",
    "\n",
    "    arr = df.values.tolist()\n",
    "\n",
    "    return arr"
   ]
  },
  {
   "cell_type": "code",
   "execution_count": 3,
   "id": "0737fc8e-317e-4147-8942-312e484daa44",
   "metadata": {},
   "outputs": [
    {
     "name": "stdout",
     "output_type": "stream",
     "text": [
      "208\n"
     ]
    }
   ],
   "source": [
    "df=process_dataset(df)\n",
    "print(len(df))"
   ]
  },
  {
   "cell_type": "markdown",
   "id": "8a449e0d-8913-4e8f-bfdb-66aa1f5ac700",
   "metadata": {},
   "source": [
    "### Note that the dataset was already clean"
   ]
  },
  {
   "cell_type": "markdown",
   "id": "345cecbd-0bc9-4bca-adcc-13b2df5e981b",
   "metadata": {},
   "source": [
    "### Let's define a function of Minkowski metric"
   ]
  },
  {
   "cell_type": "code",
   "execution_count": 3,
   "id": "fe281218-53a9-4f12-9461-109366e8733f",
   "metadata": {},
   "outputs": [],
   "source": [
    "# a and b should be vectors of the same lenght to compute the distance\n",
    "\n",
    "# k is the value I want for the metric of Minkowski\n",
    "\n",
    "def mink_metric(k,a,b):\n",
    "    \n",
    "    n=len(a)\n",
    "    \n",
    "    s=0 #sum\n",
    "    \n",
    "    for i in range(n):\n",
    "        value= (abs(a[i]-b[i]))**k\n",
    "        \n",
    "        s=s+value\n",
    "        \n",
    "    s= s**(1/k)\n",
    "    \n",
    "    return s"
   ]
  },
  {
   "cell_type": "code",
   "execution_count": 4,
   "id": "330226fd-6da3-4340-91b3-7e4cfc661331",
   "metadata": {},
   "outputs": [
    {
     "name": "stdout",
     "output_type": "stream",
     "text": [
      "4.174027662897746\n"
     ]
    }
   ],
   "source": [
    "a=[2,3]\n",
    "b=[5,7]\n",
    "\n",
    "s=mink_metric(5,a,b)\n",
    "print(s)"
   ]
  },
  {
   "cell_type": "markdown",
   "id": "80115870-ce11-4b5e-9d36-97e15199b7e1",
   "metadata": {
    "tags": []
   },
   "source": [
    "### Let's define a function that compute the Chebyshev/Chessboard distance"
   ]
  },
  {
   "cell_type": "code",
   "execution_count": 5,
   "id": "c340248f-7fbc-4fcc-b4b0-192c5e837f62",
   "metadata": {},
   "outputs": [],
   "source": [
    "# a and b should be vectors of the same lenght to compute the distance\n",
    "\n",
    "# k is the value I want for the metric of Minkowski\n",
    "\n",
    "def chebyshev_metric(a,b):\n",
    "    \n",
    "    n=len(a)\n",
    "    \n",
    "    values=[]\n",
    "    \n",
    "    for i in range(n):\n",
    "        value= (abs(a[i]-b[i]))\n",
    "        \n",
    "        values.append(value)\n",
    "        \n",
    "    s= max(values)\n",
    "    \n",
    "    return s"
   ]
  },
  {
   "cell_type": "code",
   "execution_count": 6,
   "id": "a68ddc1f-179b-40f4-be09-197860a876a8",
   "metadata": {},
   "outputs": [
    {
     "name": "stdout",
     "output_type": "stream",
     "text": [
      "4\n"
     ]
    }
   ],
   "source": [
    "a=[2,3]\n",
    "b=[5,7]\n",
    "\n",
    "s=chebyshev_metric(a,b)\n",
    "\n",
    "print(s)"
   ]
  },
  {
   "cell_type": "markdown",
   "id": "4b981aa0-ee06-4f5d-af7d-a07938700c84",
   "metadata": {},
   "source": [
    "### Let's procced to do the 1-NN with LOOCV"
   ]
  },
  {
   "cell_type": "markdown",
   "id": "4eaef0d3-9f3c-4fde-b42e-b63324ec2902",
   "metadata": {},
   "source": [
    "### GOAL: 1-NN with LOOCV from the data set, compute the confusion matrix using 3 different metrics"
   ]
  },
  {
   "cell_type": "markdown",
   "id": "5ab0962f-5001-443f-8e85-3bec4836048c",
   "metadata": {},
   "source": [
    "### METRIC: City Block/Manhattan"
   ]
  },
  {
   "cell_type": "code",
   "execution_count": 7,
   "id": "0b5001a2-a852-48d9-8067-b042fdca630e",
   "metadata": {},
   "outputs": [
    {
     "name": "stdout",
     "output_type": "stream",
     "text": [
      "110\n"
     ]
    }
   ],
   "source": [
    "num_attributes= len(df[0])\n",
    "\n",
    "last_pos_index = 0\n",
    "\n",
    "for i in range(len(df)):\n",
    "    if df[i][num_attributes-1]==1:\n",
    "        last_pos_index=i\n",
    "\n",
    "print(last_pos_index)"
   ]
  },
  {
   "cell_type": "code",
   "execution_count": 8,
   "id": "7b6d9b56-c3ea-4f71-8bdd-be85c38ab352",
   "metadata": {},
   "outputs": [],
   "source": [
    "#remove the last column of the dataset\n",
    "for row in df:\n",
    "    row.pop()"
   ]
  },
  {
   "cell_type": "code",
   "execution_count": 13,
   "id": "1c5be4d6-79ff-44ca-91f3-200b0e56b325",
   "metadata": {},
   "outputs": [],
   "source": [
    "from collections import Counter\n",
    "import math\n",
    "\n",
    "#K-NN with Leave One Out Cross Validation\n",
    "def knn_LOOCV(k,minkowski_value,df_validation,class_positive,class_negative,index_test,last_positive_index,TP,FN,FP,TN):\n",
    "    \n",
    "    train_df = df_validation #dataset where the first patterns are all positive class and the second part are all negative class\n",
    "\n",
    "    pattern_index = index_test\n",
    "    test_df = df_validation[pattern_index]\n",
    "\n",
    "    n=last_positive_index\n",
    "    \n",
    "    if pattern_index<=n:\n",
    "        class_of_test_pattern = class_positive\n",
    "    else:\n",
    "        class_of_test_pattern = class_negative\n",
    "\n",
    "    distances = []\n",
    "\n",
    "    for i in range(len(train_df)):\n",
    "        \n",
    "        #the lines below correspond to different distances \n",
    "        \n",
    "        #dist = round(math.dist(test_df, train_df[i]),4) #Euclidian metric\n",
    "        #dist = round(mink_metric(minkowski_value,test_df,train_df[i]),4) #minkowski metric\n",
    "        dist = round(chebyshev_metric(test_df,train_df[i]),4) #Chebyshev metric\n",
    "\n",
    "        if i<=n:\n",
    "            distances.append([dist,i+1,class_positive]) #it need to be sum one because of the python numeration\n",
    "        else:\n",
    "            distances.append([dist,i+1,class_negative])\n",
    "\n",
    "    del distances[pattern_index] #delete the list of distance from the test pattern to itself       \n",
    "\n",
    "    kNN=k\n",
    "    sorted_dist = sorted(distances, key=lambda x: x[0])[:kNN]\n",
    "\n",
    "\n",
    "\n",
    "    #now i want to count the most repeated class from the KNN list\n",
    "\n",
    "    # extract the third element from each sublist and put them in a separate list\n",
    "    third_elements = [sublist[2] for sublist in sorted_dist]\n",
    "\n",
    "    # use Counter to count the frequency of each value in the third_elements list\n",
    "    counter = Counter(third_elements)\n",
    "\n",
    "    most_common_class = counter.most_common(1)[0][0] #this print the most common class\n",
    "\n",
    "    \n",
    "    \n",
    "    if most_common_class == class_of_test_pattern:\n",
    "        \n",
    "        \n",
    "        if class_of_test_pattern==class_positive:\n",
    "            TP +=1\n",
    "        elif class_of_test_pattern==class_negative:\n",
    "            TN +=1\n",
    "    else:\n",
    "        #print(\"\\nFue un \\\\textbf{ERROR}\")\n",
    "\n",
    "        if class_of_test_pattern==class_positive:\n",
    "            FN +=1\n",
    "        elif class_of_test_pattern==class_negative:\n",
    "            FP +=1\n",
    "    return TP,FN,FP,TN"
   ]
  },
  {
   "cell_type": "markdown",
   "id": "163ffc78-f4de-4d5b-8706-1cc898c8da66",
   "metadata": {},
   "source": [
    "### We're going to suppose that the positive class is 1 and negative is 2"
   ]
  },
  {
   "cell_type": "code",
   "execution_count": 11,
   "id": "376e32f1-7522-47cd-acea-0cd30c183284",
   "metadata": {},
   "outputs": [
    {
     "name": "stdout",
     "output_type": "stream",
     "text": [
      "[[98, 13], [18, 79]]\n"
     ]
    }
   ],
   "source": [
    "class_positive=1\n",
    "class_negative=2\n",
    "\n",
    "n=last_pos_index\n",
    "\n",
    "TP=0\n",
    "FN=0\n",
    "FP=0\n",
    "TN=0\n",
    "\n",
    "#minkowski with m=1\n",
    "for i in range(len(df)):\n",
    "    TP,FN,FP,TN=knn_LOOCV(1,1,df,class_positive,class_negative,i,n,TP,FN,FP,TN)\n",
    "\n",
    "    \n",
    "CM=[[TP,FN],[FP,TN]]\n",
    "print(CM)"
   ]
  },
  {
   "cell_type": "markdown",
   "id": "18e1e60a-90d8-4375-8774-9261cb807dc7",
   "metadata": {},
   "source": [
    "### METRIC: Euclidian"
   ]
  },
  {
   "cell_type": "code",
   "execution_count": 12,
   "id": "47a6b421-9cf4-4b24-b877-98af4b14c8af",
   "metadata": {},
   "outputs": [
    {
     "name": "stdout",
     "output_type": "stream",
     "text": [
      "[[96, 15], [21, 76]]\n"
     ]
    }
   ],
   "source": [
    "class_positive=1\n",
    "class_negative=2\n",
    "\n",
    "n=last_pos_index\n",
    "\n",
    "TP=0\n",
    "FN=0\n",
    "FP=0\n",
    "TN=0\n",
    "\n",
    "#euclidian metric\n",
    "for i in range(len(df)):\n",
    "    TP,FN,FP,TN=knn_LOOCV(1,2,df,class_positive,class_negative,i,n,TP,FN,FP,TN)\n",
    "\n",
    "CM=[[TP,FN],[FP,TN]]\n",
    "print(CM)"
   ]
  },
  {
   "cell_type": "markdown",
   "id": "e4db8371-7c5d-4c2e-b982-7300e7d3a676",
   "metadata": {},
   "source": [
    "### Metric: Chebyshev"
   ]
  },
  {
   "cell_type": "code",
   "execution_count": 14,
   "id": "6124797f-9e3c-4c63-98bd-f8ad1ad5e09a",
   "metadata": {},
   "outputs": [
    {
     "name": "stdout",
     "output_type": "stream",
     "text": [
      "[[96, 15], [28, 69]]\n"
     ]
    }
   ],
   "source": [
    "class_positive=1\n",
    "class_negative=2\n",
    "\n",
    "n=last_pos_index\n",
    "\n",
    "TP=0\n",
    "FN=0\n",
    "FP=0\n",
    "TN=0\n",
    "\n",
    "for i in range(len(df)):\n",
    "    TP,FN,FP,TN=knn_LOOCV(1,1,df,class_positive,class_negative,i,n,TP,FN,FP,TN)\n",
    "\n",
    "CM=[[TP,FN],[FP,TN]]\n",
    "print(CM)"
   ]
  },
  {
   "cell_type": "code",
   "execution_count": null,
   "id": "70b03a15-2756-40dd-897d-2d067149667a",
   "metadata": {},
   "outputs": [],
   "source": []
  },
  {
   "cell_type": "code",
   "execution_count": 19,
   "id": "cef2f57a-ef5c-447f-9b67-6fd9f2fc3b8f",
   "metadata": {},
   "outputs": [],
   "source": [
    "def pres(CM):\n",
    "    TP = CM[0][0]\n",
    "    FN = CM[0][1]\n",
    "    \n",
    "    FP = CM[1][0]\n",
    "    TN = CM[1][1] \n",
    "    \n",
    "    preci = TP/(TP+FP)\n",
    "    \n",
    "    return preci\n",
    "\n",
    "def f1(CM):\n",
    "    TP = CM[0][0]\n",
    "    FN = CM[0][1]\n",
    "    \n",
    "    FP = CM[1][0]\n",
    "    TN = CM[1][1] \n",
    "    \n",
    "    f1 = (2*TP)/(2*TP+FN+FP)\n",
    "    \n",
    "    return f1\n",
    "    \n",
    "def mcc(CM):\n",
    "    TP = CM[0][0]\n",
    "    FN = CM[0][1]\n",
    "    \n",
    "    FP = CM[1][0]\n",
    "    TN = CM[1][1] \n",
    "    \n",
    "    mcc = (TP*FP-FP*FN)/((TP+FP)*(TP+FN)*(TN+FP)*(TN+FN))\n",
    "    \n",
    "    return mcc\n",
    "    \n",
    "\n",
    "def medidas(CM):\n",
    "    accuracy = (CM[0][0]+CM[1][1])/(sum(CM[0])+sum(CM[1]))\n",
    "    recall = (CM[0][0]) / (sum(CM[0]))\n",
    "    specificity = (CM[1][1])/sum(CM[1])\n",
    "    balanced_acc= (recall+specificity)/2\n",
    "    precision = pres(CM)\n",
    "    f1_ = f1(CM)\n",
    "    mcc_ = mcc(CM) \n",
    "    \n",
    "    print(f\"\\\\item Accuracy:{round(accuracy,4)}\\n \\\\item Recall:{round (recall,4)}\\n \\\\item Specificity: {round(specificity,4)}\\n \\\\item Balanced Accuracy:{round(balanced_acc,4)}\\n \\\\item Precision: {round(precision,4)}\\n \\\\item f1: {round(f1_,4)}\\n \\\\item MCC: {round(mcc_,4)}\")"
   ]
  },
  {
   "cell_type": "code",
   "execution_count": 22,
   "id": "78893a66-3229-4a1b-a553-7d670e9608a5",
   "metadata": {},
   "outputs": [
    {
     "name": "stdout",
     "output_type": "stream",
     "text": [
      "\\item Accuracy:0.7933\n",
      " \\item Recall:0.8649\n",
      " \\item Specificity: 0.7113\n",
      " \\item Balanced Accuracy:0.7881\n",
      " \\item Precision: 0.7742\n",
      " \\item f1: 0.817\n",
      " \\item MCC: 0.0\n"
     ]
    }
   ],
   "source": [
    "CM=[[96, 15], [28, 69]]\n",
    "medidas(CM)"
   ]
  },
  {
   "cell_type": "code",
   "execution_count": null,
   "id": "5aaa7fec-96b0-465f-8f41-43a188fa56bb",
   "metadata": {},
   "outputs": [],
   "source": []
  }
 ],
 "metadata": {
  "kernelspec": {
   "display_name": "Python 3 (ipykernel)",
   "language": "python",
   "name": "python3"
  },
  "language_info": {
   "codemirror_mode": {
    "name": "ipython",
    "version": 3
   },
   "file_extension": ".py",
   "mimetype": "text/x-python",
   "name": "python",
   "nbconvert_exporter": "python",
   "pygments_lexer": "ipython3",
   "version": "3.9.13"
  }
 },
 "nbformat": 4,
 "nbformat_minor": 5
}
