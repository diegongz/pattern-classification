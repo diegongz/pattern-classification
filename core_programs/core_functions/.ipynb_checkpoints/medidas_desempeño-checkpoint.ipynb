{
 "cells": [
  {
   "cell_type": "markdown",
   "id": "3294d6be-7440-433d-8a5e-74be658a02b8",
   "metadata": {},
   "source": [
    "# Medidas de desempeño"
   ]
  },
  {
   "cell_type": "code",
   "execution_count": 13,
   "id": "758fa122-085e-47c0-a342-9e23acca993a",
   "metadata": {},
   "outputs": [],
   "source": [
    "def medidas(CM):\n",
    "    accuracy = (CM[0][0]+CM[1][1])/(sum(CM[0])+sum(CM[1]))\n",
    "    recall = (CM[0][0]) / (sum(CM[0]))\n",
    "    specificity = (CM[1][1])/sum(CM[1])\n",
    "    balanced_acc= (recall+specificity)/2\n",
    "    \n",
    "    print(f\"-Accuracy:{accuracy}\\n-Recall:{recall}\\n-Specificity: {specificity}\\n-Balanced Accuracy:{balanced_acc}\")"
   ]
  },
  {
   "cell_type": "code",
   "execution_count": 3,
   "id": "f8e35225-f574-4c87-b3eb-a9b0d11ccb0a",
   "metadata": {},
   "outputs": [],
   "source": [
    "def balanced_df(df,class_1,class_2):\n",
    "    n= len(df[0])-1 #suppose the class column is the last element in the vector\n",
    "    \n",
    "    counter_1 = 0\n",
    "    counter_2 = 0\n",
    "    \n",
    "    for x in df:\n",
    "        if x[n] == class_1:\n",
    "            counter_1 += 1\n",
    "        else:\n",
    "            counter_2 += 1\n",
    "    \n",
    "    if max(counter_1,counter_2)/min(counter_1,counter_2)>1.5:\n",
    "        print(f'Desbalanced Data Set: {max(counter_1,counter_2)}/{min(counter_1,counter_2)}={max(counter_1,counter_2)/min(counter_1,counter_2)}')\n",
    "        if max(counter_1,counter_2)==counter_1:\n",
    "            print(f\"The bigger class is the: {class_1}\")\n",
    "        else:\n",
    "            print(f\"The bigger class is the: {class_2}\")\n",
    "    else:\n",
    "        print(f'Balanced Data Set: {max(counter_1,counter_2)}/{min(counter_1,counter_2)}={max(counter_1,counter_2)/min(counter_1,counter_2)}')\n",
    "        if max(counter_1,counter_2)==counter_1:\n",
    "            print(f\"The bigger class is the: {class_1}\")\n",
    "        else:\n",
    "            print(f\"The bigger class is the: {class_2}\")"
   ]
  },
  {
   "cell_type": "code",
   "execution_count": 4,
   "id": "d147f211-3282-42d9-bd64-27e6b0c8d87b",
   "metadata": {},
   "outputs": [
    {
     "name": "stdout",
     "output_type": "stream",
     "text": [
      "Desbalanced Data Set: 2/1=2.0\n",
      "The bigger class is the: 1\n"
     ]
    }
   ],
   "source": [
    "lst=([0,1,2,1],[0,1,2,1],[0,1,2,2])\n",
    "\n",
    "balanced_df(lst,1,2)"
   ]
  },
  {
   "cell_type": "code",
   "execution_count": null,
   "id": "ea2b4a72-9990-4c84-b15a-195523ca952d",
   "metadata": {},
   "outputs": [],
   "source": []
  }
 ],
 "metadata": {
  "kernelspec": {
   "display_name": "Python 3 (ipykernel)",
   "language": "python",
   "name": "python3"
  },
  "language_info": {
   "codemirror_mode": {
    "name": "ipython",
    "version": 3
   },
   "file_extension": ".py",
   "mimetype": "text/x-python",
   "name": "python",
   "nbconvert_exporter": "python",
   "pygments_lexer": "ipython3",
   "version": "3.9.13"
  }
 },
 "nbformat": 4,
 "nbformat_minor": 5
}
