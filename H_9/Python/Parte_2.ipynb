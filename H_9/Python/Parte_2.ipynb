{
 "cells": [
  {
   "cell_type": "markdown",
   "id": "4b23d19f-684a-4885-b18e-1d78f289d7b1",
   "metadata": {},
   "source": [
    "# Parte 2 Tarea 1-NN\n"
   ]
  },
  {
   "cell_type": "code",
   "execution_count": 1,
   "id": "7a4d4489-5d6d-4ec9-96d2-75856f7be123",
   "metadata": {},
   "outputs": [],
   "source": [
    "p=\"D:\\\\CIC\\\\CIP\\\\data_sets\\\\Haberman\\\\años\\\\haberman_58.csv\""
   ]
  },
  {
   "cell_type": "code",
   "execution_count": 2,
   "id": "8fe21ac0-c89e-4870-881e-102025bff089",
   "metadata": {},
   "outputs": [],
   "source": [
    "import csv\n",
    "#encoiding sirvio dado que al inicio aparecia ï»¿ \n",
    "with open(p, newline='',encoding='utf-8-sig') as csvfile:\n",
    "    \n",
    "    # create a CSV reader object\n",
    "    csvreader = csv.reader(csvfile, delimiter=';')\n",
    "    \n",
    "    # create a list to hold the rows of the CSV file\n",
    "    dataset=[]\n",
    "    \n",
    "    # loop through each row in the CSV file\n",
    "    for row in csvreader:\n",
    "        \n",
    "        # convert the row to a list of numbers\n",
    "        num_row = [int(x) for x in row]\n",
    "        \n",
    "        # add the num_row to the list of rows\n",
    "        dataset.append(num_row)\n"
   ]
  },
  {
   "cell_type": "code",
   "execution_count": 3,
   "id": "3cc612ac-0cbf-4bb7-942c-b52b92fc9e61",
   "metadata": {},
   "outputs": [
    {
     "name": "stdout",
     "output_type": "stream",
     "text": [
      "[[33, 10, 1], [34, 30, 1], [37, 0, 1], [39, 0, 1], [40, 2, 1], [40, 0, 1], [41, 0, 1], [42, 0, 1], [46, 3, 1], [47, 3, 1], [50, 1, 1], [53, 1, 1], [54, 1, 1], [55, 0, 1], [55, 1, 1], [58, 0, 1], [58, 3, 1], [64, 0, 1], [66, 1, 1], [72, 0, 1], [43, 52, 2], [44, 9, 2], [46, 2, 2], [48, 11, 2], [53, 4, 2], [70, 0, 2], [70, 4, 2], [83, 2, 2]]\n"
     ]
    }
   ],
   "source": [
    "ds=dataset\n",
    "print(ds)"
   ]
  },
  {
   "cell_type": "code",
   "execution_count": 4,
   "id": "5f7539ce-683e-4a25-abd7-1d6ad1c61cd5",
   "metadata": {},
   "outputs": [],
   "source": [
    "pos=2\n",
    "neg=1"
   ]
  },
  {
   "cell_type": "code",
   "execution_count": 5,
   "id": "402314d1-d08e-48d2-869a-b902fa192179",
   "metadata": {},
   "outputs": [],
   "source": [
    "pos_ds=[]\n",
    "neg_ds=[]\n",
    "\n",
    "for x in ds:\n",
    "    if x[2]==pos:\n",
    "        pos_ds.append(x)\n",
    "    else:\n",
    "        neg_ds.append(x)"
   ]
  },
  {
   "cell_type": "code",
   "execution_count": 6,
   "id": "a25da695-db08-4518-a116-d3a43fae653e",
   "metadata": {},
   "outputs": [
    {
     "name": "stdout",
     "output_type": "stream",
     "text": [
      "8\n"
     ]
    }
   ],
   "source": [
    "print(len(pos_ds))"
   ]
  },
  {
   "cell_type": "code",
   "execution_count": 7,
   "id": "f65598bf-886d-4b6c-a1e7-406396525a04",
   "metadata": {},
   "outputs": [
    {
     "name": "stdout",
     "output_type": "stream",
     "text": [
      "2.5\n"
     ]
    }
   ],
   "source": [
    "IR= max(len(neg_ds),len(pos_ds))/min(len(neg_ds),len(pos_ds))\n",
    "print(IR)"
   ]
  },
  {
   "cell_type": "markdown",
   "id": "fe7eb10a-7c40-4011-a9eb-5a2611fb7e6e",
   "metadata": {},
   "source": [
    "### Tenemos un dataset desbalanceado con IR=2.5"
   ]
  },
  {
   "cell_type": "code",
   "execution_count": 8,
   "id": "e4b4064c-e1d2-4d9b-b952-a26e5ced69b7",
   "metadata": {},
   "outputs": [],
   "source": [
    "prue_neg=[[54,1],[46,3],[72,0],[47,3],[53,1]]\n",
    "prue_pos = [[46,2],[48,11]]"
   ]
  },
  {
   "cell_type": "code",
   "execution_count": 9,
   "id": "6d286570-3fdd-478c-989c-5f9d2a1b5dd4",
   "metadata": {},
   "outputs": [],
   "source": [
    "ent_pos = pos_ds.copy()\n",
    "ent_neg = neg_ds.copy()\n",
    "\n",
    "for x in ent_pos:\n",
    "    x.pop()\n",
    "    \n",
    "for x in ent_neg:\n",
    "    x.pop()"
   ]
  },
  {
   "cell_type": "code",
   "execution_count": 11,
   "id": "0b704399-2e52-4573-925f-8dd14affaaf3",
   "metadata": {},
   "outputs": [],
   "source": [
    "for lst in prue_neg:\n",
    "    ent_neg.remove(lst)\n",
    "\n",
    "for lst in prue_pos:\n",
    "    ent_pos.remove(lst)"
   ]
  },
  {
   "cell_type": "markdown",
   "id": "b7e8f1bc-bcd2-465a-9f84-4d0595734bef",
   "metadata": {},
   "source": [
    "Ya tenemos los respectivos data sets de entrenamiento:\n",
    "- ent_pos\n",
    "- ent_neg\n",
    "\n",
    "Y de igual manera ya tengo los de prueba:\n",
    "- prue_neg\n",
    "- prue_pos\n",
    "\n",
    "Ahora procederé a realizar el clasificador 1NN"
   ]
  },
  {
   "cell_type": "code",
   "execution_count": 19,
   "id": "195dc099-ee7a-4dee-bf5a-59ad08409ffe",
   "metadata": {},
   "outputs": [],
   "source": [
    "dist_w_negativos_p = {}\n",
    "dist_w_positivos_p = {}\n",
    "\n",
    "dist_w_negativos_n = {}\n",
    "dist_w_positivos_n = {}\n",
    "\n",
    "for x in prue_neg:\n",
    "    dist_w_negativos_n[str(x)] = [] \n",
    "    dist_w_positivos_n[str(x)] = [] \n",
    "    \n",
    "for x in prue_pos:\n",
    "    dist_w_negativos_p[str(x)] = [] \n",
    "    dist_w_positivos_p[str(x)] = [] "
   ]
  },
  {
   "cell_type": "code",
   "execution_count": 20,
   "id": "d54e1d35-5b6a-4fc4-b7c0-ece734311ba0",
   "metadata": {},
   "outputs": [],
   "source": [
    "import math\n",
    "#distancias de los de prueba neg hacia los entrenamientos neg y pos respectivamente\n",
    "for x in prue_neg:\n",
    "        for y in ent_neg:\n",
    "            dist = math.dist(x, y)\n",
    "            dist_w_negativos_n[str(x)].append(dist)\n",
    "\n",
    "for x in prue_neg:\n",
    "        for y in ent_pos:\n",
    "            dist = math.dist(x, y)\n",
    "            dist_w_positivos_n[str(x)].append(dist)\n",
    "\n",
    "#distancias de los de prueba pos hacia los entrenamientos neg y pos respectivamente\n",
    "            \n",
    "for x in prue_pos:\n",
    "        for y in ent_neg:\n",
    "            dist = math.dist(x, y)\n",
    "            dist_w_negativos_p[str(x)].append(dist)\n",
    "\n",
    "for x in prue_pos:\n",
    "        for y in ent_pos:\n",
    "            dist = math.dist(x, y)\n",
    "            dist_w_positivos_p[str(x)].append(dist)"
   ]
  },
  {
   "cell_type": "markdown",
   "id": "b8f9687a-719a-4e60-8f6e-f285a7d5496e",
   "metadata": {},
   "source": [
    "### Ahora que ya tenemos todas las distancias resta encontrar la minima, lo cual es el clasificador 1NN"
   ]
  },
  {
   "cell_type": "code",
   "execution_count": 21,
   "id": "428aad13-aa1c-45e5-8dfc-f53409ba8419",
   "metadata": {},
   "outputs": [
    {
     "name": "stdout",
     "output_type": "stream",
     "text": [
      "\\item Patrón de prueba: [54, 1]\n",
      "El patrón [54, 1] fue clasificado BIEN en la clase negativa\n",
      "\\item Patrón de prueba: [46, 3]\n",
      "El patrón [46, 3] fue clasificado BIEN en la clase negativa\n",
      "\\item Patrón de prueba: [72, 0]\n",
      "El patrón [72, 0] fue clasificado MAL en la clase positiva\n",
      "\\item Patrón de prueba: [47, 3]\n",
      "El patrón [47, 3] fue clasificado BIEN en la clase negativa\n",
      "\\item Patrón de prueba: [53, 1]\n",
      "El patrón [53, 1] fue clasificado BIEN en la clase negativa\n",
      "\\item Patrón de prueba: [46, 2]\n",
      "El patrón [46, 2] fue clasificado MAL en la clase negativa\n",
      "\\item Patrón de prueba: [48, 11]\n",
      "El patrón [48, 11] fue clasificado BIEN en la clase positiva\n"
     ]
    }
   ],
   "source": [
    "true_neg = 0\n",
    "false_pos = 0\n",
    "\n",
    "true_pos = 0\n",
    "false_neg = 0\n",
    "\n",
    "#clasificador 1-NN para negativos_entrenamiento\n",
    "for key in dist_w_negativos_n:\n",
    "    min_dist_pos_n = min(dist_w_positivos_n[key])\n",
    "    min_dist_neg_n = min(dist_w_negativos_n[key])\n",
    "    \n",
    "    print(f\"\\item Patrón de prueba: {key}\")\n",
    "    \n",
    "    if min(min_dist_pos_n,min_dist_neg_n)==min_dist_neg_n:\n",
    "        true_neg=true_neg+1\n",
    "        \n",
    "        print(f\"El patrón {key} fue clasificado BIEN en la clase negativa\")\n",
    "        \n",
    "    else:\n",
    "        false_pos=false_pos+1\n",
    "        print(f\"El patrón {key} fue clasificado MAL en la clase positiva\")\n",
    "\n",
    "#clasificador 1-NN para positivos_entrenamiento\n",
    "for key in dist_w_negativos_p:\n",
    "    min_dist_pos_p = min(dist_w_positivos_p[key])\n",
    "    min_dist_neg_p = min(dist_w_negativos_p[key])\n",
    "    \n",
    "    print(f\"\\item Patrón de prueba: {key}\")\n",
    "    \n",
    "    if min(min_dist_pos_p,min_dist_neg_p)==min_dist_pos_p:\n",
    "        true_pos=true_pos+1\n",
    "        \n",
    "        print(f\"El patrón {key} fue clasificado BIEN en la clase positiva\")\n",
    "        \n",
    "    else:\n",
    "        false_neg=false_neg+1\n",
    "        print(f\"El patrón {key} fue clasificado MAL en la clase negativa\")"
   ]
  },
  {
   "cell_type": "code",
   "execution_count": 24,
   "id": "f904d007-dbff-4156-a71a-e14bbc9cc7b5",
   "metadata": {},
   "outputs": [
    {
     "name": "stdout",
     "output_type": "stream",
     "text": [
      "[[1, 1], [1, 4]]\n"
     ]
    }
   ],
   "source": [
    "confusion_M=[[true_pos,false_neg],[false_pos,true_neg]]\n",
    "print(confusion_M)"
   ]
  },
  {
   "cell_type": "markdown",
   "id": "68152a78-971e-4a32-be58-79f633dc123b",
   "metadata": {},
   "source": [
    "### Calculare las medidas de desempeño"
   ]
  },
  {
   "cell_type": "code",
   "execution_count": 37,
   "id": "abdf0198-0932-44ed-a409-75ed2e0ba966",
   "metadata": {},
   "outputs": [],
   "source": [
    "def medidas(CM):\n",
    "    accuracy = (CM[0][0]+CM[1][1])/(sum(CM[0])+sum(CM[1]))\n",
    "    recall = (CM[0][0]) / (sum(CM[0]))\n",
    "    specificity = (CM[1][1])/sum(CM[1])\n",
    "    balanced_acc= (recall+specificity)/2\n",
    "    \n",
    "    print(f\"-Accuracy:{accuracy}\\n-Recall:{recall}\\n-Specificity: {specificity}\\n-Balanced Accuracy:{balanced_acc}\")"
   ]
  },
  {
   "cell_type": "code",
   "execution_count": 38,
   "id": "5690b02d-248c-4c1b-9801-5b91b2fe53fb",
   "metadata": {},
   "outputs": [
    {
     "name": "stdout",
     "output_type": "stream",
     "text": [
      "-Accuracy:0.7142857142857143\n",
      "-Recall:0.5\n",
      "-Specificity: 0.8\n",
      "-Balanced Accuracy:0.65\n"
     ]
    }
   ],
   "source": [
    "medidas(confusion_M)"
   ]
  },
  {
   "cell_type": "code",
   "execution_count": null,
   "id": "54208fe8-be6e-43e1-8b4b-df9cd5d16ccb",
   "metadata": {},
   "outputs": [],
   "source": []
  }
 ],
 "metadata": {
  "kernelspec": {
   "display_name": "Python 3 (ipykernel)",
   "language": "python",
   "name": "python3"
  },
  "language_info": {
   "codemirror_mode": {
    "name": "ipython",
    "version": 3
   },
   "file_extension": ".py",
   "mimetype": "text/x-python",
   "name": "python",
   "nbconvert_exporter": "python",
   "pygments_lexer": "ipython3",
   "version": "3.9.13"
  }
 },
 "nbformat": 4,
 "nbformat_minor": 5
}
