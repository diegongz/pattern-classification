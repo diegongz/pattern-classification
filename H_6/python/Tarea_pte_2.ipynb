{
 "cells": [
  {
   "cell_type": "code",
   "execution_count": 2,
   "id": "ce52f930-1a9b-40e0-a896-9a77cddd2c90",
   "metadata": {},
   "outputs": [],
   "source": [
    "import pandas as pd"
   ]
  },
  {
   "cell_type": "code",
   "execution_count": 8,
   "id": "b3ff5952-42c4-4ad9-928c-5f2e3741c992",
   "metadata": {},
   "outputs": [],
   "source": [
    "p=\"D:\\\\CIC\\\\CIP\\\\titanic_limpio.xlsx\""
   ]
  },
  {
   "cell_type": "code",
   "execution_count": 11,
   "id": "29fe04e1-8350-40e5-82e7-e5f0c02378f1",
   "metadata": {},
   "outputs": [],
   "source": [
    "titanic = pd.read_excel(p,header=None)"
   ]
  },
  {
   "cell_type": "code",
   "execution_count": 15,
   "id": "77d613c1-3d6d-4157-8cc0-3e3e0d30bb9a",
   "metadata": {},
   "outputs": [
    {
     "data": {
      "text/html": [
       "<div>\n",
       "<style scoped>\n",
       "    .dataframe tbody tr th:only-of-type {\n",
       "        vertical-align: middle;\n",
       "    }\n",
       "\n",
       "    .dataframe tbody tr th {\n",
       "        vertical-align: top;\n",
       "    }\n",
       "\n",
       "    .dataframe thead th {\n",
       "        text-align: right;\n",
       "    }\n",
       "</style>\n",
       "<table border=\"1\" class=\"dataframe\">\n",
       "  <thead>\n",
       "    <tr style=\"text-align: right;\">\n",
       "      <th></th>\n",
       "      <th>0</th>\n",
       "      <th>1</th>\n",
       "      <th>2</th>\n",
       "      <th>3</th>\n",
       "    </tr>\n",
       "  </thead>\n",
       "  <tbody>\n",
       "    <tr>\n",
       "      <th>0</th>\n",
       "      <td>-1.8700</td>\n",
       "      <td>-0.228</td>\n",
       "      <td>0.521</td>\n",
       "      <td>-1</td>\n",
       "    </tr>\n",
       "    <tr>\n",
       "      <th>1</th>\n",
       "      <td>-0.9230</td>\n",
       "      <td>-0.228</td>\n",
       "      <td>-1.920</td>\n",
       "      <td>1</td>\n",
       "    </tr>\n",
       "    <tr>\n",
       "      <th>2</th>\n",
       "      <td>0.9650</td>\n",
       "      <td>-0.228</td>\n",
       "      <td>0.521</td>\n",
       "      <td>1</td>\n",
       "    </tr>\n",
       "    <tr>\n",
       "      <th>3</th>\n",
       "      <td>0.0214</td>\n",
       "      <td>-0.228</td>\n",
       "      <td>0.521</td>\n",
       "      <td>-1</td>\n",
       "    </tr>\n",
       "    <tr>\n",
       "      <th>4</th>\n",
       "      <td>0.0214</td>\n",
       "      <td>-0.228</td>\n",
       "      <td>-1.920</td>\n",
       "      <td>-1</td>\n",
       "    </tr>\n",
       "    <tr>\n",
       "      <th>5</th>\n",
       "      <td>-1.8700</td>\n",
       "      <td>4.380</td>\n",
       "      <td>0.521</td>\n",
       "      <td>1</td>\n",
       "    </tr>\n",
       "    <tr>\n",
       "      <th>6</th>\n",
       "      <td>0.0214</td>\n",
       "      <td>4.380</td>\n",
       "      <td>0.521</td>\n",
       "      <td>-1</td>\n",
       "    </tr>\n",
       "    <tr>\n",
       "      <th>7</th>\n",
       "      <td>0.9650</td>\n",
       "      <td>-0.228</td>\n",
       "      <td>-1.920</td>\n",
       "      <td>1</td>\n",
       "    </tr>\n",
       "    <tr>\n",
       "      <th>8</th>\n",
       "      <td>-0.9230</td>\n",
       "      <td>-0.228</td>\n",
       "      <td>0.521</td>\n",
       "      <td>-1</td>\n",
       "    </tr>\n",
       "    <tr>\n",
       "      <th>9</th>\n",
       "      <td>-1.8700</td>\n",
       "      <td>-0.228</td>\n",
       "      <td>-1.920</td>\n",
       "      <td>1</td>\n",
       "    </tr>\n",
       "    <tr>\n",
       "      <th>10</th>\n",
       "      <td>0.0214</td>\n",
       "      <td>4.380</td>\n",
       "      <td>-1.920</td>\n",
       "      <td>-1</td>\n",
       "    </tr>\n",
       "    <tr>\n",
       "      <th>11</th>\n",
       "      <td>-0.9230</td>\n",
       "      <td>4.380</td>\n",
       "      <td>0.521</td>\n",
       "      <td>1</td>\n",
       "    </tr>\n",
       "    <tr>\n",
       "      <th>12</th>\n",
       "      <td>-0.9230</td>\n",
       "      <td>4.380</td>\n",
       "      <td>-1.920</td>\n",
       "      <td>1</td>\n",
       "    </tr>\n",
       "    <tr>\n",
       "      <th>13</th>\n",
       "      <td>-1.8700</td>\n",
       "      <td>4.380</td>\n",
       "      <td>-1.920</td>\n",
       "      <td>1</td>\n",
       "    </tr>\n",
       "  </tbody>\n",
       "</table>\n",
       "</div>"
      ],
      "text/plain": [
       "         0      1      2  3\n",
       "0  -1.8700 -0.228  0.521 -1\n",
       "1  -0.9230 -0.228 -1.920  1\n",
       "2   0.9650 -0.228  0.521  1\n",
       "3   0.0214 -0.228  0.521 -1\n",
       "4   0.0214 -0.228 -1.920 -1\n",
       "5  -1.8700  4.380  0.521  1\n",
       "6   0.0214  4.380  0.521 -1\n",
       "7   0.9650 -0.228 -1.920  1\n",
       "8  -0.9230 -0.228  0.521 -1\n",
       "9  -1.8700 -0.228 -1.920  1\n",
       "10  0.0214  4.380 -1.920 -1\n",
       "11 -0.9230  4.380  0.521  1\n",
       "12 -0.9230  4.380 -1.920  1\n",
       "13 -1.8700  4.380 -1.920  1"
      ]
     },
     "execution_count": 15,
     "metadata": {},
     "output_type": "execute_result"
    }
   ],
   "source": [
    "titanic"
   ]
  },
  {
   "cell_type": "code",
   "execution_count": 14,
   "id": "ba853514-a6e2-4757-ae9b-5ab0167dbf19",
   "metadata": {},
   "outputs": [],
   "source": [
    "import numpy as np\n",
    "def hold_out(df,clase_1,clase_2,porcentaje):\n",
    "    #generar los respectivos datasets de las clases\n",
    "\n",
    "    #df.iloc[row_start:row_end , col_start, col_end]\n",
    "\n",
    "    c0 = df[df.iloc[: , -1] == clase_1] #si la ultima columna es igual a 0\n",
    "\n",
    "    c1 = df[df.iloc[: , -1] == clase_2] #si la ultima columna es igual a 1\n",
    "    \n",
    "    \n",
    "    #drop class column for both datasets\n",
    "    c0=c0.drop(c0.columns[-1],axis=1) #drop la ultima columna, axis=1 significa que la buscara en columnas, axis=0 lo busca en rows\n",
    "\n",
    "    c1=c1.drop(c1.columns[-1],axis=1)\n",
    "    \n",
    "        #permutation over the ci indexes\n",
    "    c0=c0.reindex(np.random.permutation(c0.index))\n",
    "    c1=c1.reindex(np.random.permutation(c1.index))\n",
    "    \n",
    "    #estamos trabajando con un hold out 80-20 ent\n",
    "    a = porcentaje/100\n",
    "    \n",
    "    h80_0= round(len(c0)*a) # 80% de la clase 0\n",
    "\n",
    "    h20_0= len(c0)-h80_0 # 20% de la clase 0\n",
    "\n",
    "    h80_1= round(len(c1)*a) # 80% de la clase 0\n",
    "\n",
    "    h20_1= len(c1)-h80_0 # 20% de la clase 0\n",
    "    \n",
    "    #conjunto de entrenamiento\n",
    "    #desde la fila 0 hasta la (h80_0)-1 (total h80_0 filas)\n",
    "    E0 = c0.iloc[:h80_0] #entrenamiento clase 0\n",
    "\n",
    "    #conjunto de prueba\n",
    "    #desde la fila h80_0 hasta la ultima\n",
    "    P0 = c0.iloc[h80_0:len(c0)+1] #prueba clase 0\n",
    "\n",
    "    #Lo mismo para la clase 1\n",
    "\n",
    "    E1 = c1.iloc[:h80_1] #entrenamiento clase 1\n",
    "    P1 = c1.iloc[h80_1:len(c1)+1] #prueba clase 0 \n",
    "    \n",
    "    \n",
    "    return E0,P0,E1,P1"
   ]
  },
  {
   "cell_type": "code",
   "execution_count": 17,
   "id": "b37a22e5-fd17-4fba-8a6b-b49434945297",
   "metadata": {},
   "outputs": [],
   "source": [
    "E1,P1,Em1,Pm1=hold_out(titanic,1,-1,70)"
   ]
  },
  {
   "cell_type": "code",
   "execution_count": 33,
   "id": "311d95d2-432a-4587-80d8-e116242865fe",
   "metadata": {},
   "outputs": [
    {
     "data": {
      "text/plain": [
       "6"
      ]
     },
     "execution_count": 33,
     "metadata": {},
     "output_type": "execute_result"
    }
   ],
   "source": [
    "len(E1)"
   ]
  },
  {
   "cell_type": "code",
   "execution_count": 22,
   "id": "fb14ce46-2870-4f4a-87e1-d757ff645d0c",
   "metadata": {},
   "outputs": [],
   "source": [
    "def centroide(df):\n",
    "    centroi = df.mean(axis=0).tolist()\n",
    "    return centroi"
   ]
  },
  {
   "cell_type": "code",
   "execution_count": 34,
   "id": "aec3bc9e-a2d0-4cd4-a682-f2de22b78718",
   "metadata": {},
   "outputs": [],
   "source": [
    "import math\n",
    "def clasificador(point,c1,c2,clase_original,n_pattern):\n",
    "    line = \"\\n\"\n",
    "    \n",
    "    \n",
    "    print(f\" \\item El patrón {n_pattern} del conjunto de entrenamiento que pertenece a la clase {clase_original}: {line}\")\n",
    "    \n",
    "    dist_c1 = round(math.dist(point, c1),2)\n",
    "    print(f\"La distancia con el centroide 0 es: {dist_c1} {line} \")\n",
    "    \n",
    "    dist_c2= round(math.dist(point, c2),2)\n",
    "    print(f\"La distancia con el centroide 1 es: {dist_c2} {line}\")\n",
    "    \n",
    "    dist_min = min (dist_c1,dist_c2)\n",
    "    \n",
    "    if dist_min == dist_c1:\n",
    "        print(f\"El punto está más cerca del centroide 0. {line}\")\n",
    "        \n",
    "        if clase_original == 0:\n",
    "            print(f\"La clasificación fue correcta. {line} \\n\")\n",
    "        else:\n",
    "            print(f\"La clasificación fue INCORRECTA.{line} \\n\")\n",
    "    else:\n",
    "        print(f\"El punto está más cerca del centroide 1.{line}\")\n",
    "        \n",
    "        if clase_original == 1:\n",
    "            print(f\"La clasificación fue correcta.{line} \\n\")\n",
    "        else:\n",
    "            print(f\"La clasificación fue INCORRECTA. {line} \\n\")"
   ]
  },
  {
   "cell_type": "code",
   "execution_count": 24,
   "id": "f7f02028-af11-420d-a6e2-47a12c87ee6b",
   "metadata": {},
   "outputs": [],
   "source": [
    "cent1=centroide(E1)\n",
    "centm1=centroide(Em1)"
   ]
  },
  {
   "cell_type": "code",
   "execution_count": 25,
   "id": "96bd590a-4153-42f7-985c-e04052ebf493",
   "metadata": {},
   "outputs": [],
   "source": [
    "lista_P1 = P1.values.tolist() #cada row es una lista aqui\n",
    "\n",
    "lista_Pm1 = Pm1.values.tolist()"
   ]
  },
  {
   "cell_type": "code",
   "execution_count": 31,
   "id": "6dacab36-ef41-4ab5-ba11-e9d87467671a",
   "metadata": {},
   "outputs": [
    {
     "data": {
      "text/plain": [
       "[[-0.923, -0.228, -1.92], [-1.87, -0.228, -1.92]]"
      ]
     },
     "execution_count": 31,
     "metadata": {},
     "output_type": "execute_result"
    }
   ],
   "source": [
    "lista_P1"
   ]
  },
  {
   "cell_type": "code",
   "execution_count": 35,
   "id": "15a59dce-0eba-4d9a-bb07-06e1db229062",
   "metadata": {},
   "outputs": [
    {
     "name": "stdout",
     "output_type": "stream",
     "text": [
      " \\item El patrón 1 del conjunto de entrenamiento que pertenece a la clase 1: \n",
      "\n",
      "La distancia con el centroide 0 es: 3.32 \n",
      " \n",
      "La distancia con el centroide 1 es: 1.82 \n",
      "\n",
      "El punto está más cerca del centroide 1.\n",
      "\n",
      "La clasificación fue correcta.\n",
      " \n",
      "\n",
      " \\item El patrón 2 del conjunto de entrenamiento que pertenece a la clase 1: \n",
      "\n",
      "La distancia con el centroide 0 es: 3.54 \n",
      " \n",
      "La distancia con el centroide 1 es: 2.36 \n",
      "\n",
      "El punto está más cerca del centroide 1.\n",
      "\n",
      "La clasificación fue correcta.\n",
      " \n",
      "\n"
     ]
    }
   ],
   "source": [
    "n=1\n",
    "for x in lista_P1:\n",
    "    clasificador(x,cent1,centm1,1,n)\n",
    "    n +=1"
   ]
  },
  {
   "cell_type": "code",
   "execution_count": 36,
   "id": "ad62aed9-ae53-401e-8f2d-c4515e967749",
   "metadata": {},
   "outputs": [
    {
     "name": "stdout",
     "output_type": "stream",
     "text": [
      " \\item El patrón 3 del conjunto de entrenamiento que pertenece a la clase -1: \n",
      "\n",
      "La distancia con el centroide 0 es: 3.54 \n",
      " \n",
      "La distancia con el centroide 1 es: 2.36 \n",
      "\n",
      "El punto está más cerca del centroide 1.\n",
      "\n",
      "La clasificación fue INCORRECTA. \n",
      " \n",
      "\n",
      " \\item El patrón 4 del conjunto de entrenamiento que pertenece a la clase -1: \n",
      "\n",
      "La distancia con el centroide 0 es: 2.06 \n",
      " \n",
      "La distancia con el centroide 1 es: 3.67 \n",
      "\n",
      "El punto está más cerca del centroide 0. \n",
      "\n",
      "La clasificación fue INCORRECTA.\n",
      " \n",
      "\n"
     ]
    }
   ],
   "source": [
    "for x in lista_Pm1:\n",
    "    clasificador(x,cent1,centm1,-1,n)\n",
    "    n +=1"
   ]
  },
  {
   "cell_type": "code",
   "execution_count": 37,
   "id": "cb368a8d-63c7-4201-b4e3-7c9b8436e3ad",
   "metadata": {},
   "outputs": [
    {
     "data": {
      "text/plain": [
       "1.3333333333333333"
      ]
     },
     "execution_count": 37,
     "metadata": {},
     "output_type": "execute_result"
    }
   ],
   "source": [
    "8/6"
   ]
  },
  {
   "cell_type": "code",
   "execution_count": null,
   "id": "e5303375-87ae-46fc-8c3a-bd57ac6f58e9",
   "metadata": {},
   "outputs": [],
   "source": []
  }
 ],
 "metadata": {
  "kernelspec": {
   "display_name": "Python 3 (ipykernel)",
   "language": "python",
   "name": "python3"
  },
  "language_info": {
   "codemirror_mode": {
    "name": "ipython",
    "version": 3
   },
   "file_extension": ".py",
   "mimetype": "text/x-python",
   "name": "python",
   "nbconvert_exporter": "python",
   "pygments_lexer": "ipython3",
   "version": "3.9.13"
  }
 },
 "nbformat": 4,
 "nbformat_minor": 5
}
