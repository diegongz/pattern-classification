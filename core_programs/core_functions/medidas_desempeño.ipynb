{
 "cells": [
  {
   "cell_type": "markdown",
   "id": "3294d6be-7440-433d-8a5e-74be658a02b8",
   "metadata": {},
   "source": [
    "# Medidas de desempeño"
   ]
  },
  {
   "cell_type": "code",
   "execution_count": 3,
   "id": "f8e35225-f574-4c87-b3eb-a9b0d11ccb0a",
   "metadata": {},
   "outputs": [],
   "source": [
    "def balanced_df(df,class_1,class_2):\n",
    "    n= len(df[0])-1 #suppose the class column is the last element in the vector\n",
    "    \n",
    "    counter_1 = 0\n",
    "    counter_2 = 0\n",
    "    \n",
    "    for x in df:\n",
    "        if x[n] == class_1:\n",
    "            counter_1 += 1\n",
    "        else:\n",
    "            counter_2 += 1\n",
    "    \n",
    "    if max(counter_1,counter_2)/min(counter_1,counter_2)>1.5:\n",
    "        print(f'Desbalanced Data Set: {max(counter_1,counter_2)}/{min(counter_1,counter_2)}={max(counter_1,counter_2)/min(counter_1,counter_2)}')\n",
    "        if max(counter_1,counter_2)==counter_1:\n",
    "            print(f\"The bigger class is the: {class_1}\")\n",
    "        else:\n",
    "            print(f\"The bigger class is the: {class_2}\")\n",
    "    else:\n",
    "        print(f'Balanced Data Set: {max(counter_1,counter_2)}/{min(counter_1,counter_2)}={max(counter_1,counter_2)/min(counter_1,counter_2)}')\n",
    "        if max(counter_1,counter_2)==counter_1:\n",
    "            print(f\"The bigger class is the: {class_1}\")\n",
    "        else:\n",
    "            print(f\"The bigger class is the: {class_2}\")"
   ]
  },
  {
   "cell_type": "code",
   "execution_count": 1,
   "id": "d147f211-3282-42d9-bd64-27e6b0c8d87b",
   "metadata": {},
   "outputs": [],
   "source": [
    "def precision(CM):\n",
    "    TP = CM[0][0]\n",
    "    FN = CM[0][1]\n",
    "    \n",
    "    FP = CM[1][0]\n",
    "    TN = CM[1][1] \n",
    "    \n",
    "    preci = TP/(TP+FP)\n",
    "    \n",
    "    return preci"
   ]
  },
  {
   "cell_type": "code",
   "execution_count": 2,
   "id": "ea2b4a72-9990-4c84-b15a-195523ca952d",
   "metadata": {},
   "outputs": [],
   "source": [
    "def f1(CM):\n",
    "    TP = CM[0][0]\n",
    "    FN = CM[0][1]\n",
    "    \n",
    "    FP = CM[1][0]\n",
    "    TN = CM[1][1] \n",
    "    \n",
    "    f1 = (2*TP)/(2*TP+FN+FP)\n",
    "    \n",
    "    return f1"
   ]
  },
  {
   "cell_type": "code",
   "execution_count": 3,
   "id": "6514711b-3631-41c2-820f-89f790d3a197",
   "metadata": {},
   "outputs": [],
   "source": [
    "def mcc(CM):\n",
    "    TP = CM[0][0]\n",
    "    FN = CM[0][1]\n",
    "    \n",
    "    FP = CM[1][0]\n",
    "    TN = CM[1][1] \n",
    "    \n",
    "    mcc = (TP*FP-FP*FN)/((TP+FP)*(TP+FN)*(TN+FP)*(TN+FN))\n",
    "    \n",
    "    return mcc"
   ]
  },
  {
   "cell_type": "code",
   "execution_count": 4,
   "id": "758fa122-085e-47c0-a342-9e23acca993a",
   "metadata": {},
   "outputs": [],
   "source": [
    "def medidas(CM):\n",
    "    accuracy = (CM[0][0]+CM[1][1])/(sum(CM[0])+sum(CM[1]))\n",
    "    recall = (CM[0][0]) / (sum(CM[0]))\n",
    "    specificity = (CM[1][1])/sum(CM[1])\n",
    "    balanced_acc= (recall+specificity)/2\n",
    "    precision = precision(CM)\n",
    "    f1 = f1(CM)\n",
    "    mcc = mcc(CM)\n",
    "    \n",
    "    \n",
    "    \n",
    "    \n",
    "    print(f\"-Accuracy:{accuracy}\\n-Recall:{recall}\\n-Specificity: {specificity}\\n-Balanced Accuracy:{balanced_acc}\\n-Precision: {precision}\\n-f1: {f1}\\n-MCC: {mcc}\")"
   ]
  },
  {
   "cell_type": "markdown",
   "id": "ec0ad4e2-f3c9-4a7e-851a-35a6c5cc3e48",
   "metadata": {},
   "source": [
    "# Completo en una celda"
   ]
  },
  {
   "cell_type": "code",
   "execution_count": 2,
   "id": "7cf599c5-d57b-4cf9-8ff7-54429ecf19d0",
   "metadata": {},
   "outputs": [],
   "source": [
    "def precision(CM):\n",
    "    TP = CM[0][0]\n",
    "    FN = CM[0][1]\n",
    "    \n",
    "    FP = CM[1][0]\n",
    "    TN = CM[1][1] \n",
    "    \n",
    "    preci = TP/(TP+FP)\n",
    "    \n",
    "    return preci\n",
    "\n",
    "def f1(CM):\n",
    "    TP = CM[0][0]\n",
    "    FN = CM[0][1]\n",
    "    \n",
    "    FP = CM[1][0]\n",
    "    TN = CM[1][1] \n",
    "    \n",
    "    f1 = (2*TP)/(2*TP+FN+FP)\n",
    "    \n",
    "    return f1\n",
    "    \n",
    "def mcc(CM):\n",
    "    TP = CM[0][0]\n",
    "    FN = CM[0][1]\n",
    "    \n",
    "    FP = CM[1][0]\n",
    "    TN = CM[1][1] \n",
    "    \n",
    "    mcc = (TP*FP-FP*FN)/((TP+FP)*(TP+FN)*(TN+FP)*(TN+FN))\n",
    "    \n",
    "    return mcc\n",
    "    \n",
    "\n",
    "def medidas(CM):\n",
    "    accuracy = (CM[0][0]+CM[1][1])/(sum(CM[0])+sum(CM[1]))\n",
    "    recall = (CM[0][0]) / (sum(CM[0]))\n",
    "    specificity = (CM[1][1])/sum(CM[1])\n",
    "    balanced_acc= (recall+specificity)/2\n",
    "    precision = precision(CM)\n",
    "    f1 = f1(CM)\n",
    "    mcc = mcc(CM) \n",
    "    \n",
    "    print(f\"-Accuracy:{accuracy}\\n-Recall:{recall}\\n-Specificity: {specificity}\\n-Balanced Accuracy:{balanced_acc}\\n-Precision: {precision}\\n-f1: {f1}\\n-MCC: {mcc}\")"
   ]
  }
 ],
 "metadata": {
  "kernelspec": {
   "display_name": "Python 3 (ipykernel)",
   "language": "python",
   "name": "python3"
  },
  "language_info": {
   "codemirror_mode": {
    "name": "ipython",
    "version": 3
   },
   "file_extension": ".py",
   "mimetype": "text/x-python",
   "name": "python",
   "nbconvert_exporter": "python",
   "pygments_lexer": "ipython3",
   "version": "3.9.13"
  }
 },
 "nbformat": 4,
 "nbformat_minor": 5
}
