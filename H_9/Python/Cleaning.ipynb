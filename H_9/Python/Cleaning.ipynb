{
 "cells": [
  {
   "cell_type": "markdown",
   "id": "aaa1daa4-b901-4e2f-978d-c263e94ef0a5",
   "metadata": {},
   "source": [
    "Read a csv as 2D Array"
   ]
  },
  {
   "cell_type": "code",
   "execution_count": 1,
   "id": "0fd1ff6d-a7e3-486b-a760-e94aa73520eb",
   "metadata": {},
   "outputs": [],
   "source": [
    "#path of my file\n",
    "p= \"D:\\\\CIC\\\\CIP\\\\data_sets\\\\Haberman\\\\años\\\\haberman_65.csv\""
   ]
  },
  {
   "cell_type": "code",
   "execution_count": 3,
   "id": "98a7dce0-238d-42d4-91ee-31ba502a6dba",
   "metadata": {},
   "outputs": [],
   "source": [
    "import csv\n",
    "with open(p, newline='') as csvfile:\n",
    "    \n",
    "    # create a CSV reader object\n",
    "    csvreader = csv.reader(csvfile, delimiter=';')\n",
    "    \n",
    "    # create a list to hold the rows of the CSV file\n",
    "    rows = []\n",
    "    \n",
    "    # loop through each row in the CSV file\n",
    "    for row in csvreader:\n",
    "        \n",
    "        # convert the row to a list of numbers\n",
    "        num_row = [int(x) for x in row]\n",
    "        \n",
    "        # add the num_row to the list of rows\n",
    "        rows.append(num_row)\n"
   ]
  },
  {
   "cell_type": "code",
   "execution_count": 65,
   "id": "a98ee29a-2773-47f0-bac4-309a3874f841",
   "metadata": {},
   "outputs": [
    {
     "name": "stdout",
     "output_type": "stream",
     "text": [
      "[[30, 0, 1], [31, 4, 1], [40, 0, 1], [41, 0, 1], [42, 0, 1], [43, 0, 1], [50, 4, 1], [51, 0, 1], [52, 0, 1], [61, 8, 1], [64, 22, 1], [67, 0, 1], [69, 0, 1], [77, 3, 1], [45, 6, 2], [46, 20, 2], [47, 0, 2], [53, 1, 2], [53, 12, 2], [54, 23, 2], [54, 5, 2], [56, 9, 2], [60, 0, 2], [61, 0, 2], [62, 19, 2], [74, 3, 2], [78, 1, 2]]\n"
     ]
    }
   ],
   "source": [
    "# print the 2D list\n",
    "# its all the CSV\n",
    "print(rows)"
   ]
  },
  {
   "cell_type": "markdown",
   "id": "b3a5afd6-7439-4ac8-afd0-2704a093a1ab",
   "metadata": {
    "tags": []
   },
   "source": [
    "# Now I want to create the Test dataset and the Training one"
   ]
  },
  {
   "cell_type": "markdown",
   "id": "57d2d06b-07cf-49af-a20d-2f92aee05482",
   "metadata": {},
   "source": [
    "Here the positive/negative test datasets are given and the respective class for positive and negative"
   ]
  },
  {
   "cell_type": "code",
   "execution_count": 4,
   "id": "2821a123-d782-4df5-95db-dd135756b30d",
   "metadata": {},
   "outputs": [],
   "source": [
    "pos=2\n",
    "neg=1"
   ]
  },
  {
   "cell_type": "code",
   "execution_count": 5,
   "id": "2baacd79-a2c0-45d7-ad87-5331dc7d1fed",
   "metadata": {},
   "outputs": [],
   "source": [
    "P_p=[[53,1],[74,3],[78,1]] #Test positive class\n",
    "P_n=[[41,0],[42,0],[64,22]] #Test Negative Class\n",
    "P=P_p+P_n #General test "
   ]
  },
  {
   "cell_type": "code",
   "execution_count": 93,
   "id": "db6816ef-bf59-4992-989a-7c839dab2fe5",
   "metadata": {},
   "outputs": [
    {
     "name": "stdout",
     "output_type": "stream",
     "text": [
      "[[53, 1], [74, 3], [78, 1], [41, 0], [42, 0], [64, 22]]\n"
     ]
    }
   ],
   "source": [
    "print(P)"
   ]
  },
  {
   "cell_type": "code",
   "execution_count": 6,
   "id": "daf7587c-a572-4240-81c4-46a1350776f1",
   "metadata": {},
   "outputs": [
    {
     "name": "stdout",
     "output_type": "stream",
     "text": [
      "[[53, 1, 2], [74, 3, 2], [78, 1, 2]]\n",
      "[[41, 0, 1], [42, 0, 1], [64, 22, 1]]\n"
     ]
    }
   ],
   "source": [
    "#Add clases to the test dataset\n",
    "for lst in P_p:\n",
    "    lst.append(pos)\n",
    "    \n",
    "print(P_p)\n",
    "for lst in P_n:\n",
    "    lst.append(neg)\n",
    "\n",
    "print(P_n)"
   ]
  },
  {
   "cell_type": "code",
   "execution_count": 80,
   "id": "30b67ce1-e29c-49c8-998f-2b40a6bd9d84",
   "metadata": {},
   "outputs": [
    {
     "data": {
      "text/plain": [
       "[[53, 1, 2], [74, 3, 2], [78, 1, 2]]"
      ]
     },
     "execution_count": 80,
     "metadata": {},
     "output_type": "execute_result"
    }
   ],
   "source": [
    "P_p"
   ]
  },
  {
   "cell_type": "markdown",
   "id": "ec342c5b-ea8c-4ff1-aafb-506d52ca2ebf",
   "metadata": {},
   "source": [
    "Let's create the training dataset, this dataset do not contain the training patterns"
   ]
  },
  {
   "cell_type": "code",
   "execution_count": 7,
   "id": "05a6ab59-8c54-4cad-b9a9-19b2730ff48f",
   "metadata": {},
   "outputs": [],
   "source": [
    "#Create a dataset to pop them in the original dataset\n",
    "Test_to_pop=P_n+P_p"
   ]
  },
  {
   "cell_type": "code",
   "execution_count": 8,
   "id": "9f2260d3-da4a-4955-ba68-071087ad3a31",
   "metadata": {},
   "outputs": [
    {
     "name": "stdout",
     "output_type": "stream",
     "text": [
      "[[30, 0, 1], [31, 4, 1], [40, 0, 1], [41, 0, 1], [42, 0, 1], [43, 0, 1], [50, 4, 1], [51, 0, 1], [52, 0, 1], [61, 8, 1], [64, 22, 1], [67, 0, 1], [69, 0, 1], [77, 3, 1], [45, 6, 2], [46, 20, 2], [47, 0, 2], [53, 1, 2], [53, 12, 2], [54, 23, 2], [54, 5, 2], [56, 9, 2], [60, 0, 2], [61, 0, 2], [62, 19, 2], [74, 3, 2], [78, 1, 2]]\n"
     ]
    }
   ],
   "source": [
    "E=rows.copy() #duplicate original dataset\n",
    "print(E)"
   ]
  },
  {
   "cell_type": "code",
   "execution_count": 9,
   "id": "ced2d902-0394-4373-b138-1775b324226e",
   "metadata": {},
   "outputs": [
    {
     "name": "stdout",
     "output_type": "stream",
     "text": [
      "[[30, 0, 1], [31, 4, 1], [40, 0, 1], [43, 0, 1], [50, 4, 1], [51, 0, 1], [52, 0, 1], [61, 8, 1], [67, 0, 1], [69, 0, 1], [77, 3, 1], [45, 6, 2], [46, 20, 2], [47, 0, 2], [53, 12, 2], [54, 23, 2], [54, 5, 2], [56, 9, 2], [60, 0, 2], [61, 0, 2], [62, 19, 2]]\n"
     ]
    }
   ],
   "source": [
    "for x in Test_to_pop:\n",
    "    E.remove(x)\n",
    "\n",
    "print(E) #Training set with clases\n"
   ]
  },
  {
   "cell_type": "code",
   "execution_count": 73,
   "id": "1209e328-c1ce-4ded-8172-a6055baa3a5a",
   "metadata": {},
   "outputs": [
    {
     "data": {
      "text/plain": [
       "21"
      ]
     },
     "execution_count": 73,
     "metadata": {},
     "output_type": "execute_result"
    }
   ],
   "source": [
    "len(E)"
   ]
  },
  {
   "cell_type": "code",
   "execution_count": 54,
   "id": "367f098a-4377-4d36-ad2b-cc34b09430eb",
   "metadata": {},
   "outputs": [],
   "source": [
    "#training set without clases\n",
    "E_no_class=E.copy() \n",
    "\n",
    "for x in E_no_class:\n",
    "    x.pop()"
   ]
  },
  {
   "cell_type": "code",
   "execution_count": 90,
   "id": "23bf4bf4-f486-45bb-9059-ae9a48bb882c",
   "metadata": {},
   "outputs": [
    {
     "name": "stdout",
     "output_type": "stream",
     "text": [
      "[[30, 0], [31, 4], [40, 0], [43, 0], [50, 4], [51, 0], [52, 0], [61, 8], [67, 0], [69, 0], [77, 3], [45, 6], [46, 20], [47, 0], [53, 12], [54, 23], [54, 5], [56, 9], [60, 0], [61, 0], [62, 19]]\n"
     ]
    }
   ],
   "source": [
    "print(E_no_class)"
   ]
  },
  {
   "cell_type": "markdown",
   "id": "712a75c8-b158-42e5-a6b2-76011fd778a0",
   "metadata": {},
   "source": [
    "So now I have all datasets I was looking for. The training and the test data sets, which are denoted by:\n",
    "\n",
    "- E_no_class: Training ds without classes\n",
    "- E= Training dataset with clases\n",
    "- P= Test dataset without clases\n",
    "- Test_to_pop= test dataset with clases"
   ]
  },
  {
   "cell_type": "markdown",
   "id": "4c251b79-742c-47a0-b2cc-c2c0b32c94ec",
   "metadata": {},
   "source": [
    "Let's create one training dataset per class"
   ]
  },
  {
   "cell_type": "code",
   "execution_count": 75,
   "id": "d9db1b4c-aa27-4568-803e-cfe18f69342e",
   "metadata": {},
   "outputs": [],
   "source": [
    "E_p=[]\n",
    "E_n=[]\n",
    "\n",
    "for x in E:\n",
    "    if x[2]==pos:\n",
    "        E_p.append(x)\n",
    "    else:\n",
    "        E_n.append(x)\n"
   ]
  },
  {
   "cell_type": "code",
   "execution_count": 77,
   "id": "3c886266-fa6e-4e1b-9f1c-ac53ff2a66c5",
   "metadata": {},
   "outputs": [
    {
     "data": {
      "text/plain": [
       "[[30, 0, 1],\n",
       " [31, 4, 1],\n",
       " [40, 0, 1],\n",
       " [43, 0, 1],\n",
       " [50, 4, 1],\n",
       " [51, 0, 1],\n",
       " [52, 0, 1],\n",
       " [61, 8, 1],\n",
       " [67, 0, 1],\n",
       " [69, 0, 1],\n",
       " [77, 3, 1]]"
      ]
     },
     "execution_count": 77,
     "metadata": {},
     "output_type": "execute_result"
    }
   ],
   "source": [
    "E_n"
   ]
  },
  {
   "cell_type": "markdown",
   "id": "bc00ba6f-2535-42d8-b44b-22a980f62a0b",
   "metadata": {},
   "source": [
    "Types of list:\n",
    "- E_p: Training positive (with class)\n",
    "- E_n: Training negative (with class)\n",
    "- E_no_class: Training ds without classes\n",
    "- E= Training dataset with clases\n",
    "- P= Test dataset without clases\n",
    "- P_p= Test positive (with class)\n",
    "- P_n = Test positive (with class)\n",
    "- Test_to_pop= test dataset (with clases)"
   ]
  },
  {
   "cell_type": "markdown",
   "id": "3ced497d-92a0-4663-84cf-debaad478108",
   "metadata": {},
   "source": [
    "Export as CSV the lists I want"
   ]
  },
  {
   "cell_type": "code",
   "execution_count": 84,
   "id": "45e6fb35-ecc0-4da1-bc0b-a09bc75dfedf",
   "metadata": {},
   "outputs": [],
   "source": [
    "import csv\n",
    "\n",
    "out=\"D:\\\\CIC\\\\CIP\\\\Tareas\\\\Tarea_9\\\\data_sets\\\\E_negative.csv\"\n",
    "\n",
    "with open(out, \"w\", newline=\"\") as f:\n",
    "    writer = csv.writer(f)\n",
    "    writer.writerows(E_p)\n",
    "    \n"
   ]
  },
  {
   "cell_type": "code",
   "execution_count": 85,
   "id": "2524baa8-83da-4274-ae22-d209123c52d8",
   "metadata": {},
   "outputs": [],
   "source": [
    "out=\"D:\\\\CIC\\\\CIP\\\\Tareas\\\\Tarea_9\\\\data_sets\\\\E_negative.csv\"\n",
    "\n",
    "with open(out, \"w\", newline=\"\") as f:\n",
    "    writer = csv.writer(f)\n",
    "    writer.writerows(E_n)"
   ]
  },
  {
   "cell_type": "code",
   "execution_count": 86,
   "id": "8573b278-ba09-4f7b-8229-dab264ac0aae",
   "metadata": {},
   "outputs": [],
   "source": [
    "out=\"D:\\\\CIC\\\\CIP\\\\Tareas\\\\Tarea_9\\\\data_sets\\\\E_no_class.csv\"\n",
    "\n",
    "with open(out, \"w\", newline=\"\") as f:\n",
    "    writer = csv.writer(f)\n",
    "    writer.writerows(E_no_class)"
   ]
  },
  {
   "cell_type": "code",
   "execution_count": 94,
   "id": "6cdfb92e-193c-4bc0-bfe7-0142d81664f0",
   "metadata": {},
   "outputs": [],
   "source": [
    "out=\"D:\\\\CIC\\\\CIP\\\\Tareas\\\\Tarea_9\\\\data_sets\\\\P_no_class.csv\"\n",
    "\n",
    "with open(out, \"w\", newline=\"\") as f:\n",
    "    writer = csv.writer(f)\n",
    "    writer.writerows(P)"
   ]
  },
  {
   "cell_type": "code",
   "execution_count": 10,
   "id": "5630f671-eeb0-42d5-8957-cf09043bfeac",
   "metadata": {},
   "outputs": [],
   "source": [
    "out=\"D:\\\\CIC\\\\CIP\\\\Tareas\\\\Tarea_9\\\\data_sets\\\\entrenamiento_con_clases.csv\"\n",
    "\n",
    "with open(out, \"w\", newline=\"\") as f:\n",
    "    writer = csv.writer(f)\n",
    "    writer.writerows(P_n)"
   ]
  },
  {
   "cell_type": "code",
   "execution_count": null,
   "id": "566a37ff-c0c7-45c3-9da0-7572f4b75a73",
   "metadata": {},
   "outputs": [],
   "source": []
  }
 ],
 "metadata": {
  "kernelspec": {
   "display_name": "Python 3 (ipykernel)",
   "language": "python",
   "name": "python3"
  },
  "language_info": {
   "codemirror_mode": {
    "name": "ipython",
    "version": 3
   },
   "file_extension": ".py",
   "mimetype": "text/x-python",
   "name": "python",
   "nbconvert_exporter": "python",
   "pygments_lexer": "ipython3",
   "version": "3.9.13"
  }
 },
 "nbformat": 4,
 "nbformat_minor": 5
}
