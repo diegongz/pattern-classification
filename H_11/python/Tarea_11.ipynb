{
 "cells": [
  {
   "cell_type": "markdown",
   "id": "a0ad6ad2-d1c8-4c0f-a1db-beb045abe700",
   "metadata": {},
   "source": [
    "# Tarea 11"
   ]
  },
  {
   "cell_type": "markdown",
   "id": "745ec92b-e13c-447d-a10b-12b6fb9c8df3",
   "metadata": {},
   "source": [
    "Calcular precision, F1 y MCC de matrices de confusion"
   ]
  },
  {
   "cell_type": "code",
   "execution_count": 62,
   "id": "2c0c96d5-f50e-4fc3-bf57-113202d7af24",
   "metadata": {},
   "outputs": [],
   "source": [
    "import math\n",
    "def medidas(CM):\n",
    "    def precision(CM):\n",
    "        TP = CM[0][0]\n",
    "        FN = CM[0][1]\n",
    "\n",
    "        FP = CM[1][0]\n",
    "        TN = CM[1][1] \n",
    "\n",
    "        preci = TP/(TP+FP)\n",
    "\n",
    "        return preci\n",
    "\n",
    "    def f1(CM):\n",
    "        TP = CM[0][0]\n",
    "        FN = CM[0][1]\n",
    "\n",
    "        FP = CM[1][0]\n",
    "        TN = CM[1][1] \n",
    "\n",
    "        f1 = (2*TP)/(2*TP+FN+FP)\n",
    "\n",
    "        return f1\n",
    "\n",
    "    def mcc(CM):\n",
    "        TP = CM[0][0]\n",
    "        FN = CM[0][1]\n",
    "\n",
    "        FP = CM[1][0]\n",
    "        TN = CM[1][1] \n",
    "\n",
    "        mcc = ((TP*TN)-(FP*FN))/math.sqrt((TP+FP)*(TP+FN)*(TN+FP)*(TN+FN))\n",
    "\n",
    "        return mcc\n",
    "\n",
    "\n",
    "\n",
    "    # accuracy = (CM[0][0]+CM[1][1])/(sum(CM[0])+sum(CM[1]))\n",
    "    \n",
    "    # specificity = (CM[1][1])/sum(CM[1])\n",
    "    # balanced_acc= (recall+specificity)/2\n",
    "    \n",
    "    \n",
    "    recall = (CM[0][0]) / (sum(CM[0]))\n",
    "    precision = round(precision(CM),4)\n",
    "    \n",
    "    if recall==0:\n",
    "        f1=\"Recall=0\"\n",
    "    elif precision==0:\n",
    "        f1=\"precision=0\"\n",
    "    else:\n",
    "        f1 = round(f1(CM),4)\n",
    "        \n",
    "    mcc = round(mcc(CM),4)\n",
    "    \n",
    "    print(\"\\n\\\\begin{itemize}\")\n",
    "    print(f\"\\item Precision: {precision} \")\n",
    "    print(f\"\\item F1: {f1} \")\n",
    "    print(f\"\\item MCC: {mcc} \")\n",
    "    print(\"\\end{itemize}\")"
   ]
  },
  {
   "cell_type": "code",
   "execution_count": 63,
   "id": "9db847ae-0573-45e8-a3b7-161a72b446d1",
   "metadata": {},
   "outputs": [],
   "source": [
    "M1= [[5,9],[0,14]]\n",
    "M2= [[1219,211],[210,760]]\n",
    "M3= [[1260,170],[232,738]]\n",
    "M4= [[1257,173],[279,691]]\n",
    "M5= [[729,701],[480,490]]\n",
    "\n",
    "matrices=[M1,M2,M3,M4,M5]"
   ]
  },
  {
   "cell_type": "code",
   "execution_count": 64,
   "id": "b1241c03-15ed-4536-a735-053c2c929c92",
   "metadata": {},
   "outputs": [
    {
     "name": "stdout",
     "output_type": "stream",
     "text": [
      "\n",
      "\\begin{itemize}\n",
      "\\item Precision: 1.0 \n",
      "\\item F1: 0.5263 \n",
      "\\item MCC: 0.4663 \n",
      "\\end{itemize}\n",
      "\n",
      "\\begin{itemize}\n",
      "\\item Precision: 0.853 \n",
      "\\item F1: 0.8527 \n",
      "\\item MCC: 0.6358 \n",
      "\\end{itemize}\n",
      "\n",
      "\\begin{itemize}\n",
      "\\item Precision: 0.8445 \n",
      "\\item F1: 0.8624 \n",
      "\\item MCC: 0.6496 \n",
      "\\end{itemize}\n",
      "\n",
      "\\begin{itemize}\n",
      "\\item Precision: 0.8184 \n",
      "\\item F1: 0.8476 \n",
      "\\item MCC: 0.6046 \n",
      "\\end{itemize}\n",
      "\n",
      "\\begin{itemize}\n",
      "\\item Precision: 0.603 \n",
      "\\item F1: 0.5525 \n",
      "\\item MCC: 0.0147 \n",
      "\\end{itemize}\n"
     ]
    }
   ],
   "source": [
    "for x in matrices:\n",
    "    medidas(x)"
   ]
  },
  {
   "cell_type": "code",
   "execution_count": null,
   "id": "1fde3866-7982-4df4-bcff-9a5aebc94686",
   "metadata": {},
   "outputs": [],
   "source": []
  }
 ],
 "metadata": {
  "kernelspec": {
   "display_name": "Python 3 (ipykernel)",
   "language": "python",
   "name": "python3"
  },
  "language_info": {
   "codemirror_mode": {
    "name": "ipython",
    "version": 3
   },
   "file_extension": ".py",
   "mimetype": "text/x-python",
   "name": "python",
   "nbconvert_exporter": "python",
   "pygments_lexer": "ipython3",
   "version": "3.9.13"
  }
 },
 "nbformat": 4,
 "nbformat_minor": 5
}
