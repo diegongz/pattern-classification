{
 "cells": [
  {
   "cell_type": "markdown",
   "id": "2e0e4270-59ef-4053-910d-6e67eb603102",
   "metadata": {},
   "source": [
    "# 1-NN using 3 metrics: Manhattan, Euclidian and Chessboard"
   ]
  },
  {
   "cell_type": "markdown",
   "id": "d2858e67-fe50-4a6a-83ad-8830c04209e1",
   "metadata": {},
   "source": [
    "First of all let's import the dataset"
   ]
  },
  {
   "cell_type": "code",
   "execution_count": 1,
   "id": "d1d62a3d-334a-47cc-adb3-21a9074af5f7",
   "metadata": {},
   "outputs": [
    {
     "name": "stdout",
     "output_type": "stream",
     "text": [
      "208\n"
     ]
    }
   ],
   "source": [
    "#The dataset will be saved in variable: df\n",
    "import csv\n",
    "#path of my file\n",
    "p= \"D:\\\\CIC\\\\CIP\\\\Tareas\\\\Tarea_12\\\\sonar.csv\"\n",
    "\n",
    "with open(p, newline='') as csvfile:\n",
    "    \n",
    "    # create a CSV reader object\n",
    "    csvreader = csv.reader(csvfile, delimiter=',')\n",
    "    \n",
    "    # create a list to hold the rows of the CSV file\n",
    "    df = []\n",
    "    \n",
    "    # loop through each row in the CSV file\n",
    "    for row in csvreader:\n",
    "        \n",
    "        # convert the row to a list of numbers\n",
    "        num_row = [float(x) for x in row]\n",
    "        \n",
    "        # add the num_row to the list of rows\n",
    "        df.append(num_row)\n",
    "        \n",
    "# print the 2D list\n",
    "print(len(df))"
   ]
  },
  {
   "cell_type": "markdown",
   "id": "3c07aafb-3547-4dc9-afb8-6276872dd6a1",
   "metadata": {},
   "source": [
    "The next code will help us to check if there're repeated or redundant patterns"
   ]
  },
  {
   "cell_type": "code",
   "execution_count": 2,
   "id": "393f48ae-158f-4b7b-89cd-e8754c539604",
   "metadata": {},
   "outputs": [],
   "source": [
    "import pandas as pd\n",
    "\n",
    "#this function helps to clean the dataset\n",
    "\n",
    "def process_dataset(lst):\n",
    "    df=pd.DataFrame(lst)\n",
    "    # Remove columns where all entries are the same\n",
    "    df = df.loc[:, (df != df.iloc[0]).any()]\n",
    "\n",
    "    # Remove duplicate rows\n",
    "    df.drop_duplicates(inplace=True)\n",
    "\n",
    "    # Remove rows with duplicate values in all but the last column\n",
    "    df_without_last = df.iloc[:, :-1]\n",
    "    df.drop_duplicates(subset=df_without_last.columns.tolist(), inplace=True, keep=False)\n",
    "\n",
    "    arr = df.values.tolist()\n",
    "\n",
    "    return arr"
   ]
  },
  {
   "cell_type": "code",
   "execution_count": 3,
   "id": "0737fc8e-317e-4147-8942-312e484daa44",
   "metadata": {},
   "outputs": [
    {
     "name": "stdout",
     "output_type": "stream",
     "text": [
      "208\n"
     ]
    }
   ],
   "source": [
    "df=process_dataset(df)\n",
    "print(len(df))"
   ]
  },
  {
   "cell_type": "markdown",
   "id": "8a449e0d-8913-4e8f-bfdb-66aa1f5ac700",
   "metadata": {},
   "source": [
    "### Note that the dataset was already clean"
   ]
  },
  {
   "cell_type": "markdown",
   "id": "345cecbd-0bc9-4bca-adcc-13b2df5e981b",
   "metadata": {},
   "source": [
    "### Let's define a function of Minkowski metric"
   ]
  },
  {
   "cell_type": "code",
   "execution_count": 3,
   "id": "fe281218-53a9-4f12-9461-109366e8733f",
   "metadata": {},
   "outputs": [],
   "source": [
    "# a and b should be vectors of the same lenght to compute the distance\n",
    "\n",
    "# k is the value I want for the metric of Minkowski\n",
    "\n",
    "def mink_metric(k,a,b):\n",
    "    \n",
    "    n=len(a)\n",
    "    \n",
    "    s=0 #sum\n",
    "    \n",
    "    for i in range(n):\n",
    "        value= (abs(a[i]-b[i]))**k\n",
    "        \n",
    "        s=s+value\n",
    "        \n",
    "    s= s**(1/k)\n",
    "    \n",
    "    return s"
   ]
  },
  {
   "cell_type": "code",
   "execution_count": 4,
   "id": "330226fd-6da3-4340-91b3-7e4cfc661331",
   "metadata": {},
   "outputs": [
    {
     "name": "stdout",
     "output_type": "stream",
     "text": [
      "4.174027662897746\n"
     ]
    }
   ],
   "source": [
    "a=[2,3]\n",
    "b=[5,7]\n",
    "\n",
    "s=mink_metric(5,a,b)\n",
    "print(s)"
   ]
  },
  {
   "cell_type": "markdown",
   "id": "80115870-ce11-4b5e-9d36-97e15199b7e1",
   "metadata": {
    "tags": []
   },
   "source": [
    "### Let's define a function that compute the Chebyshev/Chessboard distance"
   ]
  },
  {
   "cell_type": "code",
   "execution_count": 5,
   "id": "c340248f-7fbc-4fcc-b4b0-192c5e837f62",
   "metadata": {},
   "outputs": [],
   "source": [
    "# a and b should be vectors of the same lenght to compute the distance\n",
    "\n",
    "# k is the value I want for the metric of Minkowski\n",
    "\n",
    "def chebyshev_metric(a,b):\n",
    "    \n",
    "    n=len(a)\n",
    "    \n",
    "    values=[]\n",
    "    \n",
    "    for i in range(n):\n",
    "        value= (abs(a[i]-b[i]))\n",
    "        \n",
    "        values.append(value)\n",
    "        \n",
    "    s= max(values)\n",
    "    \n",
    "    return s"
   ]
  },
  {
   "cell_type": "code",
   "execution_count": 6,
   "id": "a68ddc1f-179b-40f4-be09-197860a876a8",
   "metadata": {},
   "outputs": [
    {
     "name": "stdout",
     "output_type": "stream",
     "text": [
      "4\n"
     ]
    }
   ],
   "source": [
    "a=[2,3]\n",
    "b=[5,7]\n",
    "\n",
    "s=chebyshev_metric(a,b)\n",
    "\n",
    "print(s)"
   ]
  },
  {
   "cell_type": "markdown",
   "id": "4b981aa0-ee06-4f5d-af7d-a07938700c84",
   "metadata": {},
   "source": [
    "### Let's procced to do the 1-NN with LOOCV"
   ]
  },
  {
   "cell_type": "markdown",
   "id": "4eaef0d3-9f3c-4fde-b42e-b63324ec2902",
   "metadata": {},
   "source": [
    "### GOAL: 1-NN with LOOCV from the data set, compute the confusion matrix using 3 different metrics"
   ]
  },
  {
   "cell_type": "markdown",
   "id": "5ab0962f-5001-443f-8e85-3bec4836048c",
   "metadata": {},
   "source": [
    "### METRIC: City Block/Manhattan"
   ]
  },
  {
   "cell_type": "code",
   "execution_count": 7,
   "id": "0b5001a2-a852-48d9-8067-b042fdca630e",
   "metadata": {},
   "outputs": [
    {
     "name": "stdout",
     "output_type": "stream",
     "text": [
      "110\n"
     ]
    }
   ],
   "source": [
    "num_attributes= len(df[0])\n",
    "\n",
    "last_pos_index = 0\n",
    "\n",
    "for i in range(len(df)):\n",
    "    if df[i][num_attributes-1]==1:\n",
    "        last_pos_index=i\n",
    "\n",
    "print(last_pos_index)"
   ]
  },
  {
   "cell_type": "code",
   "execution_count": 8,
   "id": "7b6d9b56-c3ea-4f71-8bdd-be85c38ab352",
   "metadata": {},
   "outputs": [],
   "source": [
    "#remove the last column of the dataset\n",
    "for row in df:\n",
    "    row.pop()"
   ]
  },
  {
   "cell_type": "code",
   "execution_count": 13,
   "id": "1c5be4d6-79ff-44ca-91f3-200b0e56b325",
   "metadata": {},
   "outputs": [],
   "source": [
    "from collections import Counter\n",
    "import math\n",
    "from tabulate import tabulate\n",
    "\n",
    "#K-NN with Leave One Out Cross Validation\n",
    "def knn_LOOCV(k,minkowski_value,df_validation,class_positive,class_negative,index_test,last_positive_index,TP,FN,FP,TN):\n",
    "    \n",
    "    train_df = df_validation #dataset where the first patterns are all positive class and the second part are all negative class\n",
    "\n",
    "    pattern_index = index_test\n",
    "    test_df = df_validation[pattern_index]\n",
    "\n",
    "    n=last_positive_index\n",
    "    \n",
    "    if pattern_index<=n:\n",
    "        class_of_test_pattern = class_positive\n",
    "    else:\n",
    "        class_of_test_pattern = class_negative\n",
    "\n",
    "    distances = []\n",
    "\n",
    "    for i in range(len(train_df)):\n",
    "        \n",
    "        #the lines below correspond to different distances \n",
    "        \n",
    "        #dist = round(math.dist(test_df, train_df[i]),4) #Euclidian metric\n",
    "        #dist = round(mink_metric(minkowski_value,test_df,train_df[i]),4) #minkowski metric\n",
    "        dist = round(chebyshev_metric(test_df,train_df[i]),4) #Chebyshev metric\n",
    "\n",
    "        if i<=n:\n",
    "            distances.append([dist,i+1,class_positive]) #it need to be sum one because of the python numeration\n",
    "        else:\n",
    "            distances.append([dist,i+1,class_negative])\n",
    "\n",
    "    del distances[pattern_index] #delete the list of distance from the test pattern to itself       \n",
    "\n",
    "    kNN=k\n",
    "    sorted_dist = sorted(distances, key=lambda x: x[0])[:kNN]\n",
    "    #print(sorted_dist)\n",
    "    #create the table of the top 3 min sorted distances\n",
    "\n",
    "    # create the table headers\n",
    "    #headers = ['Distancia', 'Patrón', 'Clase del patrón']\n",
    "\n",
    "    #table_latex = tabulate(sorted_dist, headers,floatfmt=\".4f\", tablefmt='latex')\n",
    "\n",
    "    # print(f\"\\n\\item Patrón {pattern_index+1}. Ver tabla \\\\ref{{fig{pattern_index+1}}} \\n\")\n",
    "    # print(\"\\\\begin{table}\")\n",
    "    # print(\"\\centering\")\n",
    "    # print(table_latex)\n",
    "    # print(f\"\\caption{{Tabla para el patrón {pattern_index+1} (NUTT Dataset)}}\")\n",
    "    # print(f\"\\label{{fig{pattern_index+1}}}\")\n",
    "    # print(\"\\\\end{table}\")\n",
    "\n",
    "\n",
    "    #now i want to count the most repeated class from the KNN list\n",
    "\n",
    "    # extract the third element from each sublist and put them in a separate list\n",
    "    third_elements = [sublist[2] for sublist in sorted_dist]\n",
    "\n",
    "    # use Counter to count the frequency of each value in the third_elements list\n",
    "    counter = Counter(third_elements)\n",
    "\n",
    "    most_common_class = counter.most_common(1)[0][0] #this print the most common class\n",
    "\n",
    "    #print(f\"\\nLa clase que le asgina el clasificador: {most_common_class}\")\n",
    "    \n",
    "    if most_common_class == class_of_test_pattern:\n",
    "        \n",
    "        #print(\"\\nFue un \\\\textbf{ACIERTO}\")\n",
    "        \n",
    "        if class_of_test_pattern==class_positive:\n",
    "            TP +=1\n",
    "        elif class_of_test_pattern==class_negative:\n",
    "            TN +=1\n",
    "    else:\n",
    "        #print(\"\\nFue un \\\\textbf{ERROR}\")\n",
    "\n",
    "        if class_of_test_pattern==class_positive:\n",
    "            FN +=1\n",
    "        elif class_of_test_pattern==class_negative:\n",
    "            FP +=1\n",
    "    return TP,FN,FP,TN"
   ]
  },
  {
   "cell_type": "markdown",
   "id": "163ffc78-f4de-4d5b-8706-1cc898c8da66",
   "metadata": {},
   "source": [
    "### We're going to suppose that the positive class is 1 and negative is 2"
   ]
  },
  {
   "cell_type": "code",
   "execution_count": 11,
   "id": "376e32f1-7522-47cd-acea-0cd30c183284",
   "metadata": {},
   "outputs": [
    {
     "name": "stdout",
     "output_type": "stream",
     "text": [
      "[[98, 13], [18, 79]]\n"
     ]
    }
   ],
   "source": [
    "class_positive=1\n",
    "class_negative=2\n",
    "\n",
    "n=last_pos_index\n",
    "\n",
    "TP=0\n",
    "FN=0\n",
    "FP=0\n",
    "TN=0\n",
    "\n",
    "#minkowski with m=1\n",
    "for i in range(len(df)):\n",
    "    TP,FN,FP,TN=knn_LOOCV(1,1,df,class_positive,class_negative,i,n,TP,FN,FP,TN)\n",
    "\n",
    "    \n",
    "CM=[[TP,FN],[FP,TN]]\n",
    "print(CM)"
   ]
  },
  {
   "cell_type": "markdown",
   "id": "18e1e60a-90d8-4375-8774-9261cb807dc7",
   "metadata": {},
   "source": [
    "### METRIC: Euclidian"
   ]
  },
  {
   "cell_type": "code",
   "execution_count": 12,
   "id": "47a6b421-9cf4-4b24-b877-98af4b14c8af",
   "metadata": {},
   "outputs": [
    {
     "name": "stdout",
     "output_type": "stream",
     "text": [
      "[[96, 15], [21, 76]]\n"
     ]
    }
   ],
   "source": [
    "class_positive=1\n",
    "class_negative=2\n",
    "\n",
    "n=last_pos_index\n",
    "\n",
    "TP=0\n",
    "FN=0\n",
    "FP=0\n",
    "TN=0\n",
    "\n",
    "#euclidian metric\n",
    "for i in range(len(df)):\n",
    "    TP,FN,FP,TN=knn_LOOCV(1,2,df,class_positive,class_negative,i,n,TP,FN,FP,TN)\n",
    "\n",
    "CM=[[TP,FN],[FP,TN]]\n",
    "print(CM)"
   ]
  },
  {
   "cell_type": "markdown",
   "id": "e4db8371-7c5d-4c2e-b982-7300e7d3a676",
   "metadata": {},
   "source": [
    "### Metric: Chebyshev"
   ]
  },
  {
   "cell_type": "code",
   "execution_count": 14,
   "id": "6124797f-9e3c-4c63-98bd-f8ad1ad5e09a",
   "metadata": {},
   "outputs": [
    {
     "name": "stdout",
     "output_type": "stream",
     "text": [
      "[[96, 15], [28, 69]]\n"
     ]
    }
   ],
   "source": [
    "class_positive=1\n",
    "class_negative=2\n",
    "\n",
    "n=last_pos_index\n",
    "\n",
    "TP=0\n",
    "FN=0\n",
    "FP=0\n",
    "TN=0\n",
    "\n",
    "for i in range(len(df)):\n",
    "    TP,FN,FP,TN=knn_LOOCV(1,1,df,class_positive,class_negative,i,n,TP,FN,FP,TN)\n",
    "\n",
    "CM=[[TP,FN],[FP,TN]]\n",
    "print(CM)"
   ]
  },
  {
   "cell_type": "code",
   "execution_count": null,
   "id": "70b03a15-2756-40dd-897d-2d067149667a",
   "metadata": {},
   "outputs": [],
   "source": []
  }
 ],
 "metadata": {
  "kernelspec": {
   "display_name": "Python 3 (ipykernel)",
   "language": "python",
   "name": "python3"
  },
  "language_info": {
   "codemirror_mode": {
    "name": "ipython",
    "version": 3
   },
   "file_extension": ".py",
   "mimetype": "text/x-python",
   "name": "python",
   "nbconvert_exporter": "python",
   "pygments_lexer": "ipython3",
   "version": "3.9.13"
  }
 },
 "nbformat": 4,
 "nbformat_minor": 5
}
