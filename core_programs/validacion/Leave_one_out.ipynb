{
 "cells": [
  {
   "cell_type": "markdown",
   "id": "d76f9e3d-45b7-4b92-8638-bbf905a0043a",
   "metadata": {},
   "source": [
    "# Leave One Out (Cross Validation)"
   ]
  },
  {
   "cell_type": "code",
   "execution_count": 8,
   "id": "a5ee7662-f871-4ab1-a95a-36b0a2eb4dd7",
   "metadata": {},
   "outputs": [],
   "source": [
    "def LOO(lst,alg):\n",
    "    for i in range(len(lst)):\n",
    "        df = lst.copy() #copy of the original df\n",
    "        \n",
    "        #test data_set\n",
    "        test_ds = df[i]\n",
    "        train_ds = df\n",
    "        \n",
    "        alg(test_ds,train_ds) "
   ]
  },
  {
   "cell_type": "code",
   "execution_count": null,
   "id": "dbeb6b11-b235-40c6-8fc6-c65a9c075d57",
   "metadata": {},
   "outputs": [],
   "source": []
  }
 ],
 "metadata": {
  "kernelspec": {
   "display_name": "Python 3 (ipykernel)",
   "language": "python",
   "name": "python3"
  },
  "language_info": {
   "codemirror_mode": {
    "name": "ipython",
    "version": 3
   },
   "file_extension": ".py",
   "mimetype": "text/x-python",
   "name": "python",
   "nbconvert_exporter": "python",
   "pygments_lexer": "ipython3",
   "version": "3.9.13"
  }
 },
 "nbformat": 4,
 "nbformat_minor": 5
}
