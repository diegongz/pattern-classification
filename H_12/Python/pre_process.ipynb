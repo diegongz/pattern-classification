{
 "cells": [
  {
   "cell_type": "markdown",
   "id": "df737836-52ca-466d-b476-e5717a48f883",
   "metadata": {},
   "source": [
    "# From a DataFrame separeate in two df (positive & negative)"
   ]
  },
  {
   "cell_type": "markdown",
   "id": "fca72ff8-76dc-4a27-a9a3-f8f0a02e0231",
   "metadata": {},
   "source": [
    "This function have as an input a df, positive and negative class. \n",
    "\n",
    "The DF should be as a list, where every row is a pattern, and we suppose the class is in the last entry of every row (The last column of all the DF)\n",
    "\n",
    "This function, from the original DF, it creates 2 new dataframes, the one of the positive class and the one of the negative class. This new positive/negative dataframes, will not have the last column (class column) because we already know each pattern to what class they correpond."
   ]
  },
  {
   "cell_type": "code",
   "execution_count": 6,
   "id": "e51ebdab-dff4-4572-a3c1-d97b4a066e6f",
   "metadata": {},
   "outputs": [],
   "source": [
    "def pos_and_neg(df,class_pos,class_neg):\n",
    "    n = len(df[0])-1 #position of the class column\n",
    "    \n",
    "    df_pos = []\n",
    "    df_neg = []\n",
    "    \n",
    "    for x in df:\n",
    "        if x[n] == class_pos:\n",
    "            df_pos.append(x)\n",
    "        else:\n",
    "            df_neg.append(x)\n",
    "    \n",
    "    for row in df_pos:\n",
    "        row.pop()\n",
    "    \n",
    "    for row in df_neg:\n",
    "        row.pop()\n",
    "    \n",
    "    return df_pos,df_neg"
   ]
  },
  {
   "cell_type": "code",
   "execution_count": 7,
   "id": "7df183e5-fee9-4294-ab5d-e6e2a6dd942d",
   "metadata": {},
   "outputs": [
    {
     "name": "stdout",
     "output_type": "stream",
     "text": [
      "[[5], [9]]\n",
      "[[7], [9]]\n"
     ]
    }
   ],
   "source": [
    "\n",
    "df= [[5,1],[7,2],[9,1],[9,2]]\n",
    "\n",
    "pos, neg = pos_and_neg(df,1,2)\n",
    "\n",
    "print(pos)\n",
    "print(neg)"
   ]
  },
  {
   "cell_type": "code",
   "execution_count": null,
   "id": "ff508e51-f95c-44a9-ac89-6a14d1549cfc",
   "metadata": {},
   "outputs": [],
   "source": []
  }
 ],
 "metadata": {
  "kernelspec": {
   "display_name": "Python 3 (ipykernel)",
   "language": "python",
   "name": "python3"
  },
  "language_info": {
   "codemirror_mode": {
    "name": "ipython",
    "version": 3
   },
   "file_extension": ".py",
   "mimetype": "text/x-python",
   "name": "python",
   "nbconvert_exporter": "python",
   "pygments_lexer": "ipython3",
   "version": "3.9.13"
  }
 },
 "nbformat": 4,
 "nbformat_minor": 5
}
