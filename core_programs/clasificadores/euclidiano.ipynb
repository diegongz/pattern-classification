{
 "cells": [
  {
   "cell_type": "markdown",
   "id": "48fff8b3",
   "metadata": {},
   "source": [
    "# Clasificador Euclidiano"
   ]
  },
  {
   "cell_type": "markdown",
   "id": "7b6016dd",
   "metadata": {},
   "source": [
    "Primero necesitamos encontrar el centroide de un conjunto de datos, los cuales todos pertenecen a una misma clase"
   ]
  },
  {
   "cell_type": "code",
   "execution_count": 4,
   "id": "b7b91e52-a3e2-4684-99c0-cdbd71246341",
   "metadata": {},
   "outputs": [],
   "source": [
    "def centroid(lst, n):\n",
    "    \"\"\"Calculate the centroid of the lists in lst, excluding the nth sublist.\"\"\"\n",
    "    sublists = [sublist for i, sublist in enumerate(lst) if i != n]\n",
    "    num_sublists = len(sublists)\n",
    "    if num_sublists == 0:\n",
    "        return None\n",
    "    num_elements = len(sublists[0])\n",
    "    centroid_lst = [0] * num_elements\n",
    "    for i in range(num_elements):\n",
    "        for j in range(num_sublists):\n",
    "            centroid_lst[i] += sublists[j][i]\n",
    "        centroid_lst[i] /= num_sublists\n",
    "    return centroid_lst\n",
    "\n",
    "def centroid_full(points):\n",
    "    x = [point[0] for point in points]\n",
    "    y = [point[1] for point in points]\n",
    "    n = len(points)\n",
    "    centroid_x = sum(x) / n\n",
    "    centroid_y = sum(y) / n\n",
    "    return [centroid_x, centroid_y]\n"
   ]
  },
  {
   "cell_type": "code",
   "execution_count": 3,
   "id": "f3f7feea-bd18-4036-9379-cabec1f78ad0",
   "metadata": {},
   "outputs": [],
   "source": [
    "def euclidian_classify(pattern,centroid_pos,centroid_neg,positive_class,negative_class,original_class,TP,FN,FP,TN):\n",
    "    dist_centroid_pos = round(math.dist(pattern, centroid_pos),4)\n",
    "    dist_centroid_neg = round(math.dist(pattern, centroid_neg),4)\n",
    "    \n",
    "    dist_min = min (dist_centroid_pos,dist_centroid_neg)\n",
    "    \n",
    "    if dist_min == dist_centroid_pos:\n",
    "        if original_class == positive_class:\n",
    "            TP +=1\n",
    "        else:\n",
    "            FN +=1\n",
    "    else:\n",
    "        if original_class == negative_class:\n",
    "            TN +=1\n",
    "        else:\n",
    "            FP +=1\n",
    "    \n",
    "    return TP,FN,FP,TN"
   ]
  },
  {
   "cell_type": "code",
   "execution_count": null,
   "id": "673ab628-c492-4cba-a24f-9c2653dae6b8",
   "metadata": {},
   "outputs": [],
   "source": []
  }
 ],
 "metadata": {
  "kernelspec": {
   "display_name": "Python 3 (ipykernel)",
   "language": "python",
   "name": "python3"
  },
  "language_info": {
   "codemirror_mode": {
    "name": "ipython",
    "version": 3
   },
   "file_extension": ".py",
   "mimetype": "text/x-python",
   "name": "python",
   "nbconvert_exporter": "python",
   "pygments_lexer": "ipython3",
   "version": "3.9.13"
  },
  "toc": {
   "base_numbering": 1,
   "nav_menu": {},
   "number_sections": true,
   "sideBar": true,
   "skip_h1_title": false,
   "title_cell": "Table of Contents",
   "title_sidebar": "Contents",
   "toc_cell": false,
   "toc_position": {},
   "toc_section_display": true,
   "toc_window_display": false
  }
 },
 "nbformat": 4,
 "nbformat_minor": 5
}
