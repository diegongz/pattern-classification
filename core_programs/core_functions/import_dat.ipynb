{
 "cells": [
  {
   "cell_type": "code",
   "execution_count": null,
   "id": "12ed535d-3228-4c4d-a76c-e50ae7bc65f5",
   "metadata": {},
   "outputs": [],
   "source": [
    "dataset = []\n",
    "\n",
    "with open('datafile.dat', 'r') as file:\n",
    "    for line in file:\n",
    "        if line.startswith('@'):\n",
    "            # skip comment lines\n",
    "            continue\n",
    "        row = line.strip().split(',')\n",
    "        dataset.append(row)\n",
    "\n",
    "print(dataset)\n"
   ]
  }
 ],
 "metadata": {
  "kernelspec": {
   "display_name": "Python 3 (ipykernel)",
   "language": "python",
   "name": "python3"
  },
  "language_info": {
   "codemirror_mode": {
    "name": "ipython",
    "version": 3
   },
   "file_extension": ".py",
   "mimetype": "text/x-python",
   "name": "python",
   "nbconvert_exporter": "python",
   "pygments_lexer": "ipython3",
   "version": "3.9.13"
  }
 },
 "nbformat": 4,
 "nbformat_minor": 5
}
