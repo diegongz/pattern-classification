{
 "cells": [
  {
   "cell_type": "markdown",
   "id": "e46e6461-8cf4-4350-9572-b36956f8b9bc",
   "metadata": {},
   "source": [
    "# 1NN Tarea"
   ]
  },
  {
   "cell_type": "markdown",
   "id": "fcdbe423-7658-4185-bae2-57366d21dc00",
   "metadata": {},
   "source": [
    "Parte 1"
   ]
  },
  {
   "cell_type": "markdown",
   "id": "87b2a8e3-43d7-4f68-bb0e-9a45d7f33371",
   "metadata": {
    "tags": []
   },
   "source": [
    "Verificar que son correctos los cálculos para la clasificación de los tres \n",
    "patrones de prueba de la clase negative."
   ]
  },
  {
   "cell_type": "code",
   "execution_count": 60,
   "id": "04116a77-556d-4ffa-af71-b569a3da824e",
   "metadata": {},
   "outputs": [],
   "source": [
    "#Cargar los respectivos datasets\n",
    "\n",
    "#Prueba clase negativa\n",
    "p1=\"D:\\\\CIC\\\\CIP\\\\Tareas\\\\Tarea_9\\\\data_sets\\\\P_negative.csv\"\n",
    "\n",
    "#experimento sin clase\n",
    "p2=\"D:\\\\CIC\\\\CIP\\\\Tareas\\\\Tarea_9\\\\data_sets\\\\E_no_class.csv\"\n",
    "\n",
    "#Entrenamiento con clases\n",
    "p3=\"D:\\\\CIC\\\\CIP\\\\Tareas\\\\Tarea_9\\\\data_sets\\\\entrenamiento_con_clases.csv\"\n",
    "\n",
    "#experimento clase neg \n",
    "p4=\"D:\\\\CIC\\\\CIP\\\\Tareas\\\\Tarea_9\\\\data_sets\\\\E_negative.csv\"\n",
    "\n",
    "#experimento clase positive\n",
    "p5= \"D:\\\\CIC\\\\CIP\\\\Tareas\\\\Tarea_9\\\\data_sets\\\\E_positive.csv\""
   ]
  },
  {
   "cell_type": "code",
   "execution_count": 61,
   "id": "ea4fe509-7640-48e0-af19-18f0187bbac7",
   "metadata": {},
   "outputs": [],
   "source": [
    "import csv"
   ]
  },
  {
   "cell_type": "code",
   "execution_count": 54,
   "id": "e173866f-b14c-465c-be74-136a67841682",
   "metadata": {},
   "outputs": [],
   "source": [
    "with open(p1, newline='') as csvfile:\n",
    "    \n",
    "    # create a CSV reader object\n",
    "    csvreader = csv.reader(csvfile, delimiter=',')\n",
    "    \n",
    "    # create a list to hold the rows of the CSV file\n",
    "    \n",
    "    \n",
    "    # loop through each row in the CSV file\n",
    "    for row in csvreader:\n",
    "        \n",
    "        # convert the row to a list of numbers\n",
    "        num_row = [int(x) for x in row]\n",
    "        \n",
    "        # add the num_row to the list of rows\n",
    "        Prueba_neg.append(num_row)\n"
   ]
  },
  {
   "cell_type": "code",
   "execution_count": 55,
   "id": "c4733408-8a4d-48d6-be73-01c6bf0aaa96",
   "metadata": {},
   "outputs": [],
   "source": [
    "with open(p2, newline='') as csvfile:\n",
    "    \n",
    "    # create a CSV reader object\n",
    "    csvreader = csv.reader(csvfile, delimiter=',')\n",
    "    \n",
    "    # create a list to hold the rows of the CSV file\n",
    "    \n",
    "    \n",
    "    # loop through each row in the CSV file\n",
    "    for row in csvreader:\n",
    "        \n",
    "        # convert the row to a list of numbers\n",
    "        num_row = [int(x) for x in row]\n",
    "        \n",
    "        # add the num_row to the list of rows\n",
    "        Exp_no_class.append(num_row)\n"
   ]
  },
  {
   "cell_type": "code",
   "execution_count": 56,
   "id": "a905728f-f31f-4e76-94aa-48ccb694f7a4",
   "metadata": {},
   "outputs": [],
   "source": [
    "with open(p3, newline='') as csvfile:\n",
    "    \n",
    "    # create a CSV reader object\n",
    "    csvreader = csv.reader(csvfile, delimiter=',')\n",
    "    \n",
    "    # create a list to hold the rows of the CSV file\n",
    "    \n",
    "    \n",
    "    # loop through each row in the CSV file\n",
    "    for row in csvreader:\n",
    "        \n",
    "        # convert the row to a list of numbers\n",
    "        num_row = [int(x) for x in row]\n",
    "        \n",
    "        # add the num_row to the list of rows\n",
    "        Exp_class.append(num_row)\n"
   ]
  },
  {
   "cell_type": "code",
   "execution_count": 62,
   "id": "9cb542f6-56fe-4c36-9ed4-91bc90778de1",
   "metadata": {},
   "outputs": [],
   "source": [
    "with open(p4, newline='') as csvfile:\n",
    "    \n",
    "    # create a CSV reader object\n",
    "    csvreader = csv.reader(csvfile, delimiter=',')\n",
    "    \n",
    "    # create a list to hold the rows of the CSV file\n",
    "    \n",
    "    Exp_neg=[]\n",
    "    # loop through each row in the CSV file\n",
    "    for row in csvreader:\n",
    "        \n",
    "        # convert the row to a list of numbers\n",
    "        num_row = [int(x) for x in row]\n",
    "        \n",
    "        # add the num_row to the list of rows\n",
    "        Exp_neg.append(num_row)\n"
   ]
  },
  {
   "cell_type": "code",
   "execution_count": 63,
   "id": "e1ac8b16-77ef-437c-9d46-12083c79019c",
   "metadata": {},
   "outputs": [],
   "source": [
    "with open(p5, newline='') as csvfile:\n",
    "    \n",
    "    # create a CSV reader object\n",
    "    csvreader = csv.reader(csvfile, delimiter=',')\n",
    "    \n",
    "    # create a list to hold the rows of the CSV file\n",
    "    \n",
    "    Exp_pos=[]\n",
    "    # loop through each row in the CSV file\n",
    "    for row in csvreader:\n",
    "        \n",
    "        # convert the row to a list of numbers\n",
    "        num_row = [int(x) for x in row]\n",
    "        \n",
    "        # add the num_row to the list of rows\n",
    "        Exp_pos.append(num_row)\n"
   ]
  },
  {
   "cell_type": "code",
   "execution_count": 65,
   "id": "03c2dee8-05f7-4c6b-992c-3f13ff72c244",
   "metadata": {},
   "outputs": [],
   "source": [
    "for x in Exp_pos:\n",
    "    x.pop()\n",
    "\n",
    "for x in Exp_neg:\n",
    "    x.pop()"
   ]
  },
  {
   "cell_type": "code",
   "execution_count": 69,
   "id": "abe88f67-05f0-4137-af82-a8170d40c6bb",
   "metadata": {},
   "outputs": [
    {
     "name": "stdout",
     "output_type": "stream",
     "text": [
      "11\n"
     ]
    }
   ],
   "source": [
    "print(len(Exp_neg))"
   ]
  },
  {
   "cell_type": "code",
   "execution_count": 58,
   "id": "e9bf9f72-3ecd-46d8-8ca9-631ca8694360",
   "metadata": {},
   "outputs": [],
   "source": [
    "pos=2\n",
    "neg=1"
   ]
  },
  {
   "cell_type": "markdown",
   "id": "0814a3cb-1db0-4d3b-829c-6487d8c94386",
   "metadata": {},
   "source": [
    "Ahora haré el clasificador 1NN"
   ]
  },
  {
   "cell_type": "code",
   "execution_count": 101,
   "id": "007212ce-de2b-4ce1-83ec-fc575b776640",
   "metadata": {},
   "outputs": [],
   "source": [
    "dist_neg = {}\n",
    "dist_pos = {}\n",
    "\n",
    "for x in Prueba_neg:\n",
    "    dist_neg[str(x)] = [] \n",
    "    dist_pos[str(x)] = [] "
   ]
  },
  {
   "cell_type": "code",
   "execution_count": 104,
   "id": "77fb5ce4-3b40-4a32-a6ea-040fb5bf88ed",
   "metadata": {},
   "outputs": [
    {
     "name": "stdout",
     "output_type": "stream",
     "text": [
      "[]\n"
     ]
    }
   ],
   "source": [
    "print(dist_pos['[41, 0]'])"
   ]
  },
  {
   "cell_type": "code",
   "execution_count": 78,
   "id": "9e41f921-7694-4b8e-ac34-4ed5994ab936",
   "metadata": {},
   "outputs": [],
   "source": [
    "for x in Prueba_neg:\n",
    "    x.pop()"
   ]
  },
  {
   "cell_type": "code",
   "execution_count": null,
   "id": "83d51512-2cc5-4376-aa18-e1554256b0d9",
   "metadata": {},
   "outputs": [],
   "source": [
    "import math #para calcular distancias\n",
    "\n",
    "for x in Prueba_neg:\n",
    "        for y in Exp_neg:\n",
    "            dist = math.dist(x, y)\n",
    "            dist_neg[str(x)].append(dist)\n",
    "\n",
    "for x in Prueba_neg:\n",
    "        for y in Exp_pos:\n",
    "            dist = math.dist(x, y)\n",
    "            dist_pos[str(x)].append(dist)"
   ]
  },
  {
   "cell_type": "markdown",
   "id": "8080c980-01ca-4028-8d54-91641d31ca49",
   "metadata": {},
   "source": [
    "### dist_neg y dist_pos me da las respectivas distancias de los vectores de prueba con todos los vectores de las clases positiva y negativa"
   ]
  },
  {
   "cell_type": "code",
   "execution_count": 115,
   "id": "87e10bd4-22a1-4f56-9992-33c103d30dcb",
   "metadata": {},
   "outputs": [
    {
     "name": "stdout",
     "output_type": "stream",
     "text": [
      "\\item Patrón de prueba: [41, 0]\n",
      "El patrón [41, 0] fue clasificado BIEN en la clase negativa, su distancia más corta fue: 1.0\n",
      "\\item Patrón de prueba: [42, 0]\n",
      "El patrón [42, 0] fue clasificado BIEN en la clase negativa, su distancia más corta fue: 1.0\n",
      "\\item Patrón de prueba: [64, 22]\n",
      "El patrón [64, 22] fue clasificado MAL en la clase positiva, su distancia más corta fue: 3.6055512754639896\n",
      "TN=2\n",
      "FP=1\n"
     ]
    }
   ],
   "source": [
    "true_neg=0\n",
    "\n",
    "false_pos=0\n",
    "\n",
    "for key in dist_neg:\n",
    "    min_pos = min(dist_pos[key])\n",
    "    min_neg = min(dist_neg[key])\n",
    "    \n",
    "    print(f\"\\item Patrón de prueba: {key}\")\n",
    "    \n",
    "    if min(min_neg,min_pos)==min_neg:\n",
    "        true_neg=true_neg+1\n",
    "        \n",
    "        print(f\"El patrón {key} fue clasificado BIEN en la clase negativa, su distancia más corta fue: {min(min_neg,min_pos)}\")\n",
    "        \n",
    "    else:\n",
    "        false_pos=false_pos+1\n",
    "        print(f\"El patrón {key} fue clasificado MAL en la clase positiva, su distancia más corta fue: {min(min_neg,min_pos)}\")\n",
    "\n",
    "print(f\"TN={true_neg}\")\n",
    "print(f\"FP={false_pos}\")"
   ]
  },
  {
   "cell_type": "markdown",
   "id": "32db58bc-8da8-45df-b071-3666b89b44bd",
   "metadata": {},
   "source": [
    "### Ahora debo clasificar los patrones de prueba de la clase positiva"
   ]
  },
  {
   "cell_type": "code",
   "execution_count": 116,
   "id": "5ffbe75d-0aa8-49ea-80eb-72f93825f18e",
   "metadata": {},
   "outputs": [],
   "source": [
    "#import Test dataset from positive class\n",
    "\n",
    "p6=\"D:\\\\CIC\\\\CIP\\\\Tareas\\\\Tarea_9\\\\data_sets\\\\P_positive.csv\"\n",
    "\n",
    "with open(p6, newline='') as csvfile:\n",
    "    \n",
    "    # create a CSV reader object\n",
    "    csvreader = csv.reader(csvfile, delimiter=',')\n",
    "    \n",
    "    # create a list to hold the rows of the CSV file\n",
    "    \n",
    "    Prueba_pos=[]\n",
    "    # loop through each row in the CSV file\n",
    "    for row in csvreader:\n",
    "        \n",
    "        # convert the row to a list of numbers\n",
    "        num_row = [int(x) for x in row]\n",
    "        \n",
    "        # add the num_row to the list of rows\n",
    "        Prueba_pos.append(num_row)\n"
   ]
  },
  {
   "cell_type": "code",
   "execution_count": 118,
   "id": "913e7831-de86-44fb-83bd-6322ec0ffe6a",
   "metadata": {},
   "outputs": [],
   "source": [
    "for row in Prueba_pos:\n",
    "    row.pop()"
   ]
  },
  {
   "cell_type": "code",
   "execution_count": 119,
   "id": "36d10ee0-c67c-43f2-a04f-d41b6ceef4b7",
   "metadata": {},
   "outputs": [
    {
     "name": "stdout",
     "output_type": "stream",
     "text": [
      "[[53, 1], [74, 3], [78, 1]]\n"
     ]
    }
   ],
   "source": [
    "print(Prueba_pos)"
   ]
  },
  {
   "cell_type": "code",
   "execution_count": 120,
   "id": "44424fcf-123d-41ee-8d7b-95ad215f95ab",
   "metadata": {},
   "outputs": [],
   "source": [
    "dist_neg_class_pos = {} #dict para guardar las distancias del los patrones de prueba positivos a los patrones de experimento de la clase negativa\n",
    "dist_pos_class_pos = {}\n",
    "\n",
    "for x in Prueba_pos:\n",
    "    dist_neg_class_pos[str(x)] = [] \n",
    "    dist_pos_class_pos[str(x)] = [] "
   ]
  },
  {
   "cell_type": "code",
   "execution_count": 122,
   "id": "0131ab27-bd36-42d8-b013-e1b706b98635",
   "metadata": {},
   "outputs": [],
   "source": [
    "import math #para calcular distancias\n",
    "\n",
    "for x in Prueba_pos:\n",
    "        for y in Exp_neg:\n",
    "            dist = math.dist(x, y)\n",
    "            dist_neg_class_pos[str(x)].append(dist)\n",
    "\n",
    "for x in Prueba_pos:\n",
    "        for y in Exp_pos:\n",
    "            dist = math.dist(x, y)\n",
    "            dist_pos_class_pos[str(x)].append(dist)"
   ]
  },
  {
   "cell_type": "code",
   "execution_count": 123,
   "id": "79c70818-4f92-4445-9013-ed6d4357dc7e",
   "metadata": {},
   "outputs": [
    {
     "name": "stdout",
     "output_type": "stream",
     "text": [
      "\\item Patrón de prueba: [53, 1]\n",
      "El patrón [53, 1] fue clasificado MAL en la clase negativa, su distancia más corta fue: 3.6055512754639896\n",
      "\\item Patrón de prueba: [74, 3]\n",
      "El patrón [74, 3] fue clasificado MAL en la clase negativa, su distancia más corta fue: 3.6055512754639896\n",
      "\\item Patrón de prueba: [78, 1]\n",
      "El patrón [78, 1] fue clasificado MAL en la clase negativa, su distancia más corta fue: 3.6055512754639896\n",
      "TP=0\n",
      "FN=3\n"
     ]
    }
   ],
   "source": [
    "true_pos=0\n",
    "\n",
    "false_neg=0\n",
    "\n",
    "for key in dist_neg_class_pos:\n",
    "    min_pos_1 = min(dist_pos_class_pos[key])\n",
    "    min_neg_1 = min(dist_neg_class_pos[key])\n",
    "    \n",
    "    print(f\"\\item Patrón de prueba: {key}\")\n",
    "    \n",
    "    if min(min_pos_1,min_neg_1)==min_pos_1:\n",
    "        true_pos=true_pos+1\n",
    "        \n",
    "        print(f\"El patrón {key} fue clasificado BIEN en la clase positive, su distancia más corta fue: {min(min_neg,min_pos)}\")\n",
    "        \n",
    "    else:\n",
    "        false_neg=false_neg+1\n",
    "        print(f\"El patrón {key} fue clasificado MAL en la clase negativa, su distancia más corta fue: {min(min_neg,min_pos)}\")\n",
    "\n",
    "print(f\"TP={true_pos}\")\n",
    "print(f\"FN={false_neg}\")"
   ]
  },
  {
   "cell_type": "code",
   "execution_count": null,
   "id": "5a75f5cb-e230-4469-988d-70bfcfcf9c0e",
   "metadata": {},
   "outputs": [],
   "source": []
  }
 ],
 "metadata": {
  "kernelspec": {
   "display_name": "Python 3 (ipykernel)",
   "language": "python",
   "name": "python3"
  },
  "language_info": {
   "codemirror_mode": {
    "name": "ipython",
    "version": 3
   },
   "file_extension": ".py",
   "mimetype": "text/x-python",
   "name": "python",
   "nbconvert_exporter": "python",
   "pygments_lexer": "ipython3",
   "version": "3.9.13"
  }
 },
 "nbformat": 4,
 "nbformat_minor": 5
}
