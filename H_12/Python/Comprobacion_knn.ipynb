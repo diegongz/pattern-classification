{
 "cells": [
  {
   "cell_type": "code",
   "execution_count": 5,
   "id": "cef03b43-775d-484f-b012-8498af8c6c7a",
   "metadata": {},
   "outputs": [
    {
     "name": "stdout",
     "output_type": "stream",
     "text": [
      "Confusion matrix:\n",
      "[[96, 15], [28, 69]]\n"
     ]
    }
   ],
   "source": [
    "from sklearn.model_selection import LeaveOneOut\n",
    "from sklearn.neighbors import KNeighborsClassifier\n",
    "from sklearn.metrics import confusion_matrix\n",
    "import pandas as pd\n",
    "\n",
    "import warnings\n",
    "\n",
    "# Ignore all warnings\n",
    "warnings.filterwarnings(\"ignore\")\n",
    "\n",
    "# Your code here\n",
    "\n",
    "p= \"D:\\\\CIC\\\\CIP\\\\Tareas\\\\Tarea_12\\\\sonar.csv\"\n",
    "# Load the Sonar dataset from a CSV file\n",
    "sonar_df = pd.read_csv(p, header=None)\n",
    "\n",
    "# Replace 'M' with 1 and 'R' with 2\n",
    "sonar_df[60] = sonar_df[60].replace({'M': 1, 'R': 2})\n",
    "\n",
    "# Split the dataset into features (X) and labels (y)\n",
    "X = sonar_df.iloc[:, :-1]\n",
    "y = sonar_df.iloc[:, -1]\n",
    "\n",
    "# Initialize the confusion matrix\n",
    "confusion_mat = [[0, 0], [0, 0]]\n",
    "\n",
    "# Create the leave-one-out cross-validator\n",
    "loo = LeaveOneOut()\n",
    "\n",
    "# Iterate through each training-testing split\n",
    "for train_index, test_index in loo.split(X):\n",
    "    # Split the data into training and testing sets\n",
    "    X_train, X_test = X.iloc[train_index], X.iloc[test_index]\n",
    "    y_train, y_test = y[train_index], y[test_index]\n",
    "    \n",
    "    # Train the 1-NN classifier on the training data\n",
    "    knn = KNeighborsClassifier(n_neighbors=1, metric='chebyshev')\n",
    "    knn.fit(X_train, y_train)\n",
    "    \n",
    "    # Predict the label of the test sample\n",
    "    y_pred = knn.predict(X_test)\n",
    "    \n",
    "    # Update the confusion matrix\n",
    "    if y_test.values[0] == 1:\n",
    "        if y_pred[0] == 1:\n",
    "            confusion_mat[0][0] += 1\n",
    "        else:\n",
    "            confusion_mat[0][1] += 1\n",
    "    else:\n",
    "        if y_pred[0] == 2:\n",
    "            confusion_mat[1][1] += 1\n",
    "        else:\n",
    "            confusion_mat[1][0] += 1\n",
    "\n",
    "# Print the confusion matrix\n",
    "print(\"Confusion matrix:\")\n",
    "print(confusion_mat)\n"
   ]
  },
  {
   "cell_type": "code",
   "execution_count": null,
   "id": "fe62c0ec-1061-4f5c-996b-2f84f546600e",
   "metadata": {},
   "outputs": [],
   "source": []
  }
 ],
 "metadata": {
  "kernelspec": {
   "display_name": "Python 3 (ipykernel)",
   "language": "python",
   "name": "python3"
  },
  "language_info": {
   "codemirror_mode": {
    "name": "ipython",
    "version": 3
   },
   "file_extension": ".py",
   "mimetype": "text/x-python",
   "name": "python",
   "nbconvert_exporter": "python",
   "pygments_lexer": "ipython3",
   "version": "3.9.13"
  }
 },
 "nbformat": 4,
 "nbformat_minor": 5
}
