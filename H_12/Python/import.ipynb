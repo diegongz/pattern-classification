{
 "cells": [
  {
   "cell_type": "markdown",
   "id": "aaa1daa4-b901-4e2f-978d-c263e94ef0a5",
   "metadata": {},
   "source": [
    "Read a csv as 2D Array"
   ]
  },
  {
   "cell_type": "code",
   "execution_count": 2,
   "id": "f1fa1eb1-b310-41ec-af3f-626370bd9c04",
   "metadata": {},
   "outputs": [],
   "source": [
    "import csv\n",
    "#path of my file\n",
    "p= \"D:\\\\CIC\\\\CIP\\\\Tareas\\\\Tarea_12\\\\sonar.csv\"\n",
    "\n",
    "with open(p, newline='') as csvfile:\n",
    "    \n",
    "    # create a CSV reader object\n",
    "    csvreader = csv.reader(csvfile, delimiter=',')\n",
    "    \n",
    "    # create a list to hold the rows of the CSV file\n",
    "    df = []\n",
    "    \n",
    "    # loop through each row in the CSV file\n",
    "    for row in csvreader:\n",
    "        \n",
    "        # convert the row to a list of numbers\n",
    "        num_row = [float(x) for x in row]\n",
    "        \n",
    "        # add the num_row to the list of rows\n",
    "        df.append(num_row)\n",
    "        \n",
    "# print the 2D list\n",
    "#print(df)"
   ]
  },
  {
   "cell_type": "code",
   "execution_count": null,
   "id": "b9277c0f-5db7-41c0-8b97-2a77046ce91e",
   "metadata": {},
   "outputs": [],
   "source": []
  }
 ],
 "metadata": {
  "kernelspec": {
   "display_name": "Python 3 (ipykernel)",
   "language": "python",
   "name": "python3"
  },
  "language_info": {
   "codemirror_mode": {
    "name": "ipython",
    "version": 3
   },
   "file_extension": ".py",
   "mimetype": "text/x-python",
   "name": "python",
   "nbconvert_exporter": "python",
   "pygments_lexer": "ipython3",
   "version": "3.9.13"
  }
 },
 "nbformat": 4,
 "nbformat_minor": 5
}
