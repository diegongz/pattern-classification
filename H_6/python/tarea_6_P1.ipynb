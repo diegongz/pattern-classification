{
 "cells": [
  {
   "cell_type": "markdown",
   "id": "8138002b-e571-44c5-b3de-fd7867f44ad8",
   "metadata": {},
   "source": [
    "# RD 06 pt.1"
   ]
  },
  {
   "cell_type": "markdown",
   "id": "cc3f5d79-1ff1-4bee-ae7f-2a5b752bae10",
   "metadata": {},
   "source": [
    "Instrucciones: Generar una partición 70-30 con el método de validación Hold-out en el dataset Nutt y aplicar el Clasificador Eulidiano con la partición generada."
   ]
  },
  {
   "cell_type": "code",
   "execution_count": 20,
   "id": "04652760-cc73-4433-afbc-58349a404fbb",
   "metadata": {},
   "outputs": [],
   "source": [
    "import pandas as pd\n",
    "import numpy as np\n",
    "import math"
   ]
  },
  {
   "cell_type": "code",
   "execution_count": 28,
   "id": "b52b209a-f9d6-4bde-84aa-5e23485c9a3e",
   "metadata": {},
   "outputs": [],
   "source": [
    "#importar hold-out\n",
    "def hold_out(df,clase_1,clase_2,porcentaje):\n",
    "    #generar los respectivos datasets de las clases\n",
    "\n",
    "    #df.iloc[row_start:row_end , col_start, col_end]\n",
    "\n",
    "    c0 = df[df.iloc[: , -1] == clase_1] #si la ultima columna es igual a 0\n",
    "\n",
    "    c1 = df[df.iloc[: , -1] == clase_2] #si la ultima columna es igual a 1\n",
    "    \n",
    "    \n",
    "    #drop class column for both datasets\n",
    "    c0=c0.drop(c0.columns[-1],axis=1) #drop la ultima columna, axis=1 significa que la buscara en columnas, axis=0 lo busca en rows\n",
    "\n",
    "    c1=c1.drop(c1.columns[-1],axis=1)\n",
    "    \n",
    "        #permutation over the ci indexes\n",
    "    c0=c0.reindex(np.random.permutation(c0.index))\n",
    "    c1=c1.reindex(np.random.permutation(c1.index))\n",
    "    \n",
    "    #estamos trabajando con un hold out 80-20 ent\n",
    "    a = porcentaje/100\n",
    "    \n",
    "    h80_0= round(len(c0)*a) # 80% de la clase 0\n",
    "\n",
    "    h20_0= len(c0)-h80_0 # 20% de la clase 0\n",
    "\n",
    "    h80_1= round(len(c1)*a) # 80% de la clase 0\n",
    "\n",
    "    h20_1= len(c1)-h80_0 # 20% de la clase 0\n",
    "    \n",
    "    #conjunto de entrenamiento\n",
    "    #desde la fila 0 hasta la (h80_0)-1 (total h80_0 filas)\n",
    "    E0 = c0.iloc[:h80_0] #entrenamiento clase 0\n",
    "\n",
    "    #conjunto de prueba\n",
    "    #desde la fila h80_0 hasta la ultima\n",
    "    P0 = c0.iloc[h80_0:len(c0)+1] #prueba clase 0\n",
    "\n",
    "    #Lo mismo para la clase 1\n",
    "\n",
    "    E1 = c1.iloc[:h80_1] #entrenamiento clase 1\n",
    "    P1 = c1.iloc[h80_1:len(c1)+1] #prueba clase 0 \n",
    "    \n",
    "    \n",
    "    return E0,P0,E1,P1"
   ]
  },
  {
   "cell_type": "markdown",
   "id": "aecef327-162f-4ad0-8ba1-32934d80131b",
   "metadata": {},
   "source": [
    "### Clasificador euclidiano"
   ]
  },
  {
   "cell_type": "code",
   "execution_count": 47,
   "id": "61141c9f-ee79-40a4-baa0-372f50f490d5",
   "metadata": {},
   "outputs": [],
   "source": [
    "def centroide(df):\n",
    "    centroi = df.mean(axis=0).tolist()\n",
    "    return centroi\n",
    "def clasificador(point,c1,c2,clase_original,n_pattern):\n",
    "    line = \"\\n\"\n",
    "    \n",
    "    \n",
    "    print(f\" \\item El patrón {n_pattern} del conjunto de entrenamiento que pertenece a la clase {clase_original}: {line}\")\n",
    "    \n",
    "    dist_c1 = round(math.dist(point, c1),2)\n",
    "    print(f\"La distancia con el centroide 0 es: {dist_c1} {line} \")\n",
    "    \n",
    "    dist_c2= round(math.dist(point, c2),2)\n",
    "    print(f\"La distancia con el centroide 1 es: {dist_c2} {line}\")\n",
    "    \n",
    "    dist_min = min (dist_c1,dist_c2)\n",
    "    \n",
    "    if dist_min == dist_c1:\n",
    "        print(f\"El punto está más cerca del centroide 0. {line}\")\n",
    "        \n",
    "        if clase_original == 0:\n",
    "            print(f\"La clasificación fue correcta. {line} \\n\")\n",
    "        else:\n",
    "            print(f\"La clasificación fue INCORRECTA.{line} \\n\")\n",
    "    else:\n",
    "        print(f\"El punto está más cerca del centroide 1.{line}\")\n",
    "        \n",
    "        if clase_original == 1:\n",
    "            print(f\"La clasificación fue correcta.{line} \\n\")\n",
    "        else:\n",
    "            print(f\"La clasificación fue INCORRECTA. {line} \\n\")\n"
   ]
  },
  {
   "cell_type": "code",
   "execution_count": 29,
   "id": "18fa8152-b9e8-4e50-a73d-aa1da6c58dbd",
   "metadata": {},
   "outputs": [],
   "source": [
    "p=\"D:\\\\CIC\\\\CIP\\\\data_sets\\\\nutt\\\\nutt_clean.xlsx\""
   ]
  },
  {
   "cell_type": "code",
   "execution_count": 30,
   "id": "4021da23-887b-4754-932a-b3d048129492",
   "metadata": {},
   "outputs": [],
   "source": [
    "#read dataset\n",
    "df = pd.read_excel(p)"
   ]
  },
  {
   "cell_type": "code",
   "execution_count": 31,
   "id": "c82fd692-c8a5-4af3-9889-2653064fe9d4",
   "metadata": {},
   "outputs": [],
   "source": [
    "#aplicar hold-out 70-30 a df\n",
    "E0,P0,E1,P1 = hold_out(df,0,1,70)"
   ]
  },
  {
   "cell_type": "code",
   "execution_count": 43,
   "id": "428d2105-0cf1-49ea-8e21-0a842f7fd493",
   "metadata": {},
   "outputs": [],
   "source": [
    "#convertir datasets de prueba en listas 2D para poder sacar distancias\n",
    "\n",
    "lista_P0 = P0.values.tolist() #cada row es una lista aqui\n",
    "\n",
    "lista_P1 = P1.values.tolist()"
   ]
  },
  {
   "cell_type": "code",
   "execution_count": 44,
   "id": "b7ee508d-64b7-4a6c-b995-1c8d185e3d62",
   "metadata": {},
   "outputs": [],
   "source": [
    "#obtener los centroides:\n",
    "\n",
    "centroide0= centroide(E0)\n",
    "centroide1= centroide(E1)"
   ]
  },
  {
   "cell_type": "markdown",
   "id": "384db9e5-6046-4702-8f70-1676746c6e9a",
   "metadata": {},
   "source": [
    "# Titanic dataset"
   ]
  },
  {
   "cell_type": "code",
   "execution_count": 53,
   "id": "0574e652-e198-4042-b6c4-c6422c419e9f",
   "metadata": {},
   "outputs": [],
   "source": [
    "p=\"D:\\\\CIC\\\\CIP\\\\data_sets\\\\titanic\\\\titanic.xlsx\""
   ]
  },
  {
   "cell_type": "code",
   "execution_count": 54,
   "id": "04640445-8118-4ab9-acb2-d4779022c794",
   "metadata": {},
   "outputs": [],
   "source": [
    "titanic = pd.read_excel(p)"
   ]
  },
  {
   "cell_type": "code",
   "execution_count": 55,
   "id": "3417216d-d7c6-4d5b-915f-1069e6423843",
   "metadata": {},
   "outputs": [
    {
     "data": {
      "text/html": [
       "<div>\n",
       "<style scoped>\n",
       "    .dataframe tbody tr th:only-of-type {\n",
       "        vertical-align: middle;\n",
       "    }\n",
       "\n",
       "    .dataframe tbody tr th {\n",
       "        vertical-align: top;\n",
       "    }\n",
       "\n",
       "    .dataframe thead th {\n",
       "        text-align: right;\n",
       "    }\n",
       "</style>\n",
       "<table border=\"1\" class=\"dataframe\">\n",
       "  <thead>\n",
       "    <tr style=\"text-align: right;\">\n",
       "      <th></th>\n",
       "      <th>-1.870</th>\n",
       "      <th>-0.228</th>\n",
       "      <th>0.521</th>\n",
       "      <th>-1.000</th>\n",
       "    </tr>\n",
       "  </thead>\n",
       "  <tbody>\n",
       "    <tr>\n",
       "      <th>0</th>\n",
       "      <td>-0.9230</td>\n",
       "      <td>-0.228</td>\n",
       "      <td>-1.920</td>\n",
       "      <td>1</td>\n",
       "    </tr>\n",
       "    <tr>\n",
       "      <th>1</th>\n",
       "      <td>-0.9230</td>\n",
       "      <td>-0.228</td>\n",
       "      <td>-1.920</td>\n",
       "      <td>1</td>\n",
       "    </tr>\n",
       "    <tr>\n",
       "      <th>2</th>\n",
       "      <td>0.9650</td>\n",
       "      <td>-0.228</td>\n",
       "      <td>0.521</td>\n",
       "      <td>1</td>\n",
       "    </tr>\n",
       "    <tr>\n",
       "      <th>3</th>\n",
       "      <td>0.0214</td>\n",
       "      <td>-0.228</td>\n",
       "      <td>0.521</td>\n",
       "      <td>-1</td>\n",
       "    </tr>\n",
       "    <tr>\n",
       "      <th>4</th>\n",
       "      <td>0.9650</td>\n",
       "      <td>-0.228</td>\n",
       "      <td>0.521</td>\n",
       "      <td>-1</td>\n",
       "    </tr>\n",
       "    <tr>\n",
       "      <th>...</th>\n",
       "      <td>...</td>\n",
       "      <td>...</td>\n",
       "      <td>...</td>\n",
       "      <td>...</td>\n",
       "    </tr>\n",
       "    <tr>\n",
       "      <th>2195</th>\n",
       "      <td>0.9650</td>\n",
       "      <td>-0.228</td>\n",
       "      <td>0.521</td>\n",
       "      <td>-1</td>\n",
       "    </tr>\n",
       "    <tr>\n",
       "      <th>2196</th>\n",
       "      <td>-0.9230</td>\n",
       "      <td>-0.228</td>\n",
       "      <td>0.521</td>\n",
       "      <td>-1</td>\n",
       "    </tr>\n",
       "    <tr>\n",
       "      <th>2197</th>\n",
       "      <td>-1.8700</td>\n",
       "      <td>-0.228</td>\n",
       "      <td>0.521</td>\n",
       "      <td>-1</td>\n",
       "    </tr>\n",
       "    <tr>\n",
       "      <th>2198</th>\n",
       "      <td>0.9650</td>\n",
       "      <td>-0.228</td>\n",
       "      <td>0.521</td>\n",
       "      <td>-1</td>\n",
       "    </tr>\n",
       "    <tr>\n",
       "      <th>2199</th>\n",
       "      <td>-0.9230</td>\n",
       "      <td>-0.228</td>\n",
       "      <td>-1.920</td>\n",
       "      <td>1</td>\n",
       "    </tr>\n",
       "  </tbody>\n",
       "</table>\n",
       "<p>2200 rows × 4 columns</p>\n",
       "</div>"
      ],
      "text/plain": [
       "      -1.870  -0.228   0.521  -1.000\n",
       "0    -0.9230  -0.228  -1.920       1\n",
       "1    -0.9230  -0.228  -1.920       1\n",
       "2     0.9650  -0.228   0.521       1\n",
       "3     0.0214  -0.228   0.521      -1\n",
       "4     0.9650  -0.228   0.521      -1\n",
       "...      ...     ...     ...     ...\n",
       "2195  0.9650  -0.228   0.521      -1\n",
       "2196 -0.9230  -0.228   0.521      -1\n",
       "2197 -1.8700  -0.228   0.521      -1\n",
       "2198  0.9650  -0.228   0.521      -1\n",
       "2199 -0.9230  -0.228  -1.920       1\n",
       "\n",
       "[2200 rows x 4 columns]"
      ]
     },
     "execution_count": 55,
     "metadata": {},
     "output_type": "execute_result"
    }
   ],
   "source": [
    "titanic"
   ]
  },
  {
   "cell_type": "code",
   "execution_count": null,
   "id": "048b1e99-06b0-45f5-992d-b9a9a9910247",
   "metadata": {},
   "outputs": [],
   "source": []
  }
 ],
 "metadata": {
  "kernelspec": {
   "display_name": "Python 3 (ipykernel)",
   "language": "python",
   "name": "python3"
  },
  "language_info": {
   "codemirror_mode": {
    "name": "ipython",
    "version": 3
   },
   "file_extension": ".py",
   "mimetype": "text/x-python",
   "name": "python",
   "nbconvert_exporter": "python",
   "pygments_lexer": "ipython3",
   "version": "3.9.13"
  }
 },
 "nbformat": 4,
 "nbformat_minor": 5
}
