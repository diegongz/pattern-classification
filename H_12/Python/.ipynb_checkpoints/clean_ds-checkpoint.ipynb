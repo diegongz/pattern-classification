{
 "cells": [
  {
   "cell_type": "markdown",
   "id": "800fdd1f-cb56-435d-abb7-074bbd51e7b4",
   "metadata": {},
   "source": [
    "# Clean a Dataset"
   ]
  },
  {
   "cell_type": "code",
   "execution_count": 23,
   "id": "24fa6f60-945f-4b40-a3a0-98a135c3bcda",
   "metadata": {},
   "outputs": [],
   "source": [
    "#here you have to add the dataframe as 2D Array"
   ]
  },
  {
   "cell_type": "code",
   "execution_count": 24,
   "id": "a98c0aee-63f8-4eac-a966-f399edae6784",
   "metadata": {},
   "outputs": [],
   "source": [
    "import pandas as pd\n",
    "\n",
    "def process_dataset(lst):\n",
    "    df=pd.DataFrame(lst)\n",
    "    # Remove columns where all entries are the same\n",
    "    df = df.loc[:, (df != df.iloc[0]).any()]\n",
    "\n",
    "    # Remove duplicate rows\n",
    "    df.drop_duplicates(inplace=True)\n",
    "\n",
    "    # Remove rows with duplicate values in all but the last column\n",
    "    df_without_last = df.iloc[:, :-1]\n",
    "    df.drop_duplicates(subset=df_without_last.columns.tolist(), inplace=True, keep=False)\n",
    "\n",
    "    arr = df.values.tolist()\n",
    "\n",
    "    return arr"
   ]
  },
  {
   "cell_type": "code",
   "execution_count": 25,
   "id": "494c4031-3277-4cfd-8507-83f5cfb2862b",
   "metadata": {},
   "outputs": [
    {
     "name": "stdout",
     "output_type": "stream",
     "text": [
      "[[2, 8], [4, 7]]\n"
     ]
    }
   ],
   "source": [
    "lst=[[1,1,1],[2,1,8],[4,1,7],[1,1,1],[1,1,2]]\n",
    "\n",
    "limpio=process_dataset(lst)\n",
    "print(limpio)"
   ]
  },
  {
   "cell_type": "code",
   "execution_count": null,
   "id": "53d3923f-a676-46a2-b890-5c258a9c5391",
   "metadata": {},
   "outputs": [],
   "source": []
  }
 ],
 "metadata": {
  "kernelspec": {
   "display_name": "Python 3 (ipykernel)",
   "language": "python",
   "name": "python3"
  },
  "language_info": {
   "codemirror_mode": {
    "name": "ipython",
    "version": 3
   },
   "file_extension": ".py",
   "mimetype": "text/x-python",
   "name": "python",
   "nbconvert_exporter": "python",
   "pygments_lexer": "ipython3",
   "version": "3.9.13"
  }
 },
 "nbformat": 4,
 "nbformat_minor": 5
}
