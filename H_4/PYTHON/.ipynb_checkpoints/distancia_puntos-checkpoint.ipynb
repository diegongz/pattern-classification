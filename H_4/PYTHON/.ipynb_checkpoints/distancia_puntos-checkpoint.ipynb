{
 "cells": [
  {
   "cell_type": "code",
   "execution_count": 3,
   "id": "9c39557f",
   "metadata": {},
   "outputs": [],
   "source": [
    "c1 = [52.5625, 1] #centroide_1\n",
    "c2 = [69, 2.5] #centroide 2"
   ]
  },
  {
   "cell_type": "code",
   "execution_count": 78,
   "id": "f134244b",
   "metadata": {},
   "outputs": [],
   "source": [
    "import math\n",
    "def clasificador(p,c1,c2):\n",
    "    point = p[:2]\n",
    "    line = \"\\n\"\n",
    "    \n",
    "    print(f\" \\item El patrón analizado es {point} que pertenece a la clase {p[2]} {line}\")\n",
    "    \n",
    "    dist_c1 = round(math.dist(point, c1),2)\n",
    "    print(f\"La distancia con el centroide 1 es: {dist_c1} {line} \")\n",
    "    \n",
    "    dist_c2= round(math.dist(point, c2),2)\n",
    "    print(f\"La distancia con el centroide 2 es: {dist_c2} {line}\")\n",
    "    \n",
    "    dist_min = min (dist_c1,dist_c2)\n",
    "    \n",
    "    if dist_min == dist_c1:\n",
    "        print(f\"El punto está más cerca del centroide 1. {line}\")\n",
    "        \n",
    "        if p[2] == 1:\n",
    "            print(f\"La clasificación fue correcta. {line} \\n\")\n",
    "        else:\n",
    "            print(f\"La clasificación fue INCORRECTA.{line} \\n\")\n",
    "    else:\n",
    "        print(f\"El punto está más cerca del centroide 2.{line}\")\n",
    "        \n",
    "        if p[2] == 2:\n",
    "            print(f\"La clasificación fue correcta.{line} \\n\")\n",
    "        else:\n",
    "            print(f\"La clasificación fue INCORRECTA. {line} \\n\")\n",
    "        "
   ]
  },
  {
   "cell_type": "code",
   "execution_count": 52,
   "id": "0cdccfca",
   "metadata": {},
   "outputs": [],
   "source": [
    "prueba=[[33,10,1],[34,30,1],[37,0,1],[39,0,1],[43,52,2],[44,9,2],[46,2,2],[48,11,2]]"
   ]
  },
  {
   "cell_type": "code",
   "execution_count": 53,
   "id": "e4c870d1",
   "metadata": {},
   "outputs": [
    {
     "name": "stdout",
     "output_type": "stream",
     "text": [
      "[[33, 10, 1], [34, 30, 1], [37, 0, 1], [39, 0, 1], [43, 52, 2], [44, 9, 2], [46, 2, 2], [48, 11, 2]]\n"
     ]
    }
   ],
   "source": [
    "print(prueba)"
   ]
  },
  {
   "cell_type": "code",
   "execution_count": 79,
   "id": "360fc06c",
   "metadata": {},
   "outputs": [
    {
     "name": "stdout",
     "output_type": "stream",
     "text": [
      " \\item El patrón analizado es [33, 10] que pertenece a la clase 1 \n",
      "\n",
      "La distancia con el centroide 1 es: 21.53 \n",
      " \n",
      "La distancia con el centroide 2 es: 36.77 \n",
      "\n",
      "El punto está más cerca del centroide 1. \n",
      "\n",
      "La clasificación fue correcta. \n",
      " \n",
      "\n",
      " \\item El patrón analizado es [34, 30] que pertenece a la clase 1 \n",
      "\n",
      "La distancia con el centroide 1 es: 34.43 \n",
      " \n",
      "La distancia con el centroide 2 es: 44.51 \n",
      "\n",
      "El punto está más cerca del centroide 1. \n",
      "\n",
      "La clasificación fue correcta. \n",
      " \n",
      "\n",
      " \\item El patrón analizado es [37, 0] que pertenece a la clase 1 \n",
      "\n",
      "La distancia con el centroide 1 es: 15.59 \n",
      " \n",
      "La distancia con el centroide 2 es: 32.1 \n",
      "\n",
      "El punto está más cerca del centroide 1. \n",
      "\n",
      "La clasificación fue correcta. \n",
      " \n",
      "\n",
      " \\item El patrón analizado es [39, 0] que pertenece a la clase 1 \n",
      "\n",
      "La distancia con el centroide 1 es: 13.6 \n",
      " \n",
      "La distancia con el centroide 2 es: 30.1 \n",
      "\n",
      "El punto está más cerca del centroide 1. \n",
      "\n",
      "La clasificación fue correcta. \n",
      " \n",
      "\n",
      " \\item El patrón analizado es [43, 52] que pertenece a la clase 2 \n",
      "\n",
      "La distancia con el centroide 1 es: 51.89 \n",
      " \n",
      "La distancia con el centroide 2 es: 55.91 \n",
      "\n",
      "El punto está más cerca del centroide 1. \n",
      "\n",
      "La clasificación fue INCORRECTA.\n",
      " \n",
      "\n",
      " \\item El patrón analizado es [44, 9] que pertenece a la clase 2 \n",
      "\n",
      "La distancia con el centroide 1 es: 11.72 \n",
      " \n",
      "La distancia con el centroide 2 es: 25.83 \n",
      "\n",
      "El punto está más cerca del centroide 1. \n",
      "\n",
      "La clasificación fue INCORRECTA.\n",
      " \n",
      "\n",
      " \\item El patrón analizado es [46, 2] que pertenece a la clase 2 \n",
      "\n",
      "La distancia con el centroide 1 es: 6.64 \n",
      " \n",
      "La distancia con el centroide 2 es: 23.01 \n",
      "\n",
      "El punto está más cerca del centroide 1. \n",
      "\n",
      "La clasificación fue INCORRECTA.\n",
      " \n",
      "\n",
      " \\item El patrón analizado es [48, 11] que pertenece a la clase 2 \n",
      "\n",
      "La distancia con el centroide 1 es: 10.99 \n",
      " \n",
      "La distancia con el centroide 2 es: 22.66 \n",
      "\n",
      "El punto está más cerca del centroide 1. \n",
      "\n",
      "La clasificación fue INCORRECTA.\n",
      " \n",
      "\n"
     ]
    }
   ],
   "source": [
    "for x in prueba:\n",
    "    clasificador(x,c1,c2)"
   ]
  },
  {
   "cell_type": "code",
   "execution_count": null,
   "id": "41a51462",
   "metadata": {},
   "outputs": [],
   "source": []
  }
 ],
 "metadata": {
  "kernelspec": {
   "display_name": "Python 3 (ipykernel)",
   "language": "python",
   "name": "python3"
  },
  "language_info": {
   "codemirror_mode": {
    "name": "ipython",
    "version": 3
   },
   "file_extension": ".py",
   "mimetype": "text/x-python",
   "name": "python",
   "nbconvert_exporter": "python",
   "pygments_lexer": "ipython3",
   "version": "3.9.13"
  },
  "toc": {
   "base_numbering": 1,
   "nav_menu": {},
   "number_sections": true,
   "sideBar": true,
   "skip_h1_title": false,
   "title_cell": "Table of Contents",
   "title_sidebar": "Contents",
   "toc_cell": false,
   "toc_position": {},
   "toc_section_display": true,
   "toc_window_display": false
  }
 },
 "nbformat": 4,
 "nbformat_minor": 5
}
