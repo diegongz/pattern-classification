{
 "cells": [
  {
   "cell_type": "markdown",
   "id": "19dd6aa5-93e4-4fa9-b8dd-5b2339482e5e",
   "metadata": {},
   "source": [
    "# HOLD OUT"
   ]
  },
  {
   "cell_type": "markdown",
   "id": "923765c3-a29c-475e-877f-bd6ab527f712",
   "metadata": {},
   "source": [
    "Necesitas importar pandas"
   ]
  },
  {
   "cell_type": "code",
   "execution_count": null,
   "id": "2ebf0bf8-31ee-4a06-9564-1a7c0be9e25b",
   "metadata": {},
   "outputs": [],
   "source": [
    "import pandas as pd\n",
    "import numpy as np"
   ]
  },
  {
   "cell_type": "code",
   "execution_count": 2,
   "id": "afc7b6d9-bfc8-48fb-b61b-76de83bb2017",
   "metadata": {},
   "outputs": [],
   "source": [
    "import numpy as np\n",
    "def hold_out(df,clase_1,clase_2,porcentaje):\n",
    "    #generar los respectivos datasets de las clases\n",
    "\n",
    "    #df.iloc[row_start:row_end , col_start, col_end]\n",
    "\n",
    "    c0 = df[df.iloc[: , -1] == clase_1] #si la ultima columna es igual a 0\n",
    "\n",
    "    c1 = df[df.iloc[: , -1] == clase_2] #si la ultima columna es igual a 1\n",
    "    \n",
    "    \n",
    "    #drop class column for both datasets\n",
    "    c0=c0.drop(c0.columns[-1],axis=1) #drop la ultima columna, axis=1 significa que la buscara en columnas, axis=0 lo busca en rows\n",
    "\n",
    "    c1=c1.drop(c1.columns[-1],axis=1)\n",
    "    \n",
    "        #permutation over the ci indexes\n",
    "    c0=c0.reindex(np.random.permutation(c0.index))\n",
    "    c1=c1.reindex(np.random.permutation(c1.index))\n",
    "    \n",
    "    #estamos trabajando con un hold out 80-20 ent\n",
    "    a = porcentaje/100\n",
    "    \n",
    "    h80_0= round(len(c0)*a) # 80% de la clase 0\n",
    "\n",
    "    h20_0= len(c0)-h80_0 # 20% de la clase 0\n",
    "\n",
    "    h80_1= round(len(c1)*a) # 80% de la clase 0\n",
    "\n",
    "    h20_1= len(c1)-h80_0 # 20% de la clase 0\n",
    "    \n",
    "    #conjunto de entrenamiento\n",
    "    #desde la fila 0 hasta la (h80_0)-1 (total h80_0 filas)\n",
    "    E0 = c0.iloc[:h80_0] #entrenamiento clase 0\n",
    "\n",
    "    #conjunto de prueba\n",
    "    #desde la fila h80_0 hasta la ultima\n",
    "    P0 = c0.iloc[h80_0:len(c0)+1] #prueba clase 0\n",
    "\n",
    "    #Lo mismo para la clase 1\n",
    "\n",
    "    E1 = c1.iloc[:h80_1] #entrenamiento clase 1\n",
    "    P1 = c1.iloc[h80_1:len(c1)+1] #prueba clase 0 \n",
    "    \n",
    "    \n",
    "    return E0,P0,E1,P1\n"
   ]
  },
  {
   "cell_type": "code",
   "execution_count": null,
   "id": "e1b4df28-eaa1-4f0e-b5cc-bee86119a3bf",
   "metadata": {},
   "outputs": [],
   "source": []
  }
 ],
 "metadata": {
  "kernelspec": {
   "display_name": "Python 3 (ipykernel)",
   "language": "python",
   "name": "python3"
  },
  "language_info": {
   "codemirror_mode": {
    "name": "ipython",
    "version": 3
   },
   "file_extension": ".py",
   "mimetype": "text/x-python",
   "name": "python",
   "nbconvert_exporter": "python",
   "pygments_lexer": "ipython3",
   "version": "3.9.13"
  }
 },
 "nbformat": 4,
 "nbformat_minor": 5
}
