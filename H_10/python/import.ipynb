{
 "cells": [
  {
   "cell_type": "markdown",
   "id": "aaa1daa4-b901-4e2f-978d-c263e94ef0a5",
   "metadata": {},
   "source": [
    "Read a csv as 2D Array"
   ]
  },
  {
   "cell_type": "code",
   "execution_count": 1,
   "id": "0fd1ff6d-a7e3-486b-a760-e94aa73520eb",
   "metadata": {},
   "outputs": [],
   "source": [
    "#path of my file\n",
    "p= \"D:\\\\CIC\\\\CIP\\\\data_sets\\\\Haberman\\\\años\\\\haberman_65.csv\""
   ]
  },
  {
   "cell_type": "code",
   "execution_count": null,
   "id": "98a7dce0-238d-42d4-91ee-31ba502a6dba",
   "metadata": {},
   "outputs": [],
   "source": [
    "with open(p, newline='') as csvfile:\n",
    "    \n",
    "    # create a CSV reader object\n",
    "    csvreader = csv.reader(csvfile, delimiter=',')\n",
    "    \n",
    "    # create a list to hold the rows of the CSV file\n",
    "    rows = []\n",
    "    \n",
    "    # loop through each row in the CSV file\n",
    "    for row in csvreader:\n",
    "        \n",
    "        # convert the row to a list of numbers\n",
    "        num_row = [float(x) for x in row]\n",
    "        \n",
    "        # add the num_row to the list of rows\n",
    "        rows.append(num_row)\n",
    "        \n",
    "# print the 2D list\n",
    "print(rows)"
   ]
  }
 ],
 "metadata": {
  "kernelspec": {
   "display_name": "Python 3 (ipykernel)",
   "language": "python",
   "name": "python3"
  },
  "language_info": {
   "codemirror_mode": {
    "name": "ipython",
    "version": 3
   },
   "file_extension": ".py",
   "mimetype": "text/x-python",
   "name": "python",
   "nbconvert_exporter": "python",
   "pygments_lexer": "ipython3",
   "version": "3.9.13"
  }
 },
 "nbformat": 4,
 "nbformat_minor": 5
}
